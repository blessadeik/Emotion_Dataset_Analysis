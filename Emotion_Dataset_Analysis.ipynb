{
  "cells": [
    {
      "cell_type": "code",
      "execution_count": null,
      "metadata": {
        "id": "0RntOjCWHR55"
      },
      "outputs": [],
      "source": [
        "pip install sklearn"
      ]
    },
    {
      "cell_type": "code",
      "source": [
        "pip install spacy"
      ],
      "metadata": {
        "id": "BYRGUPAXHYA8"
      },
      "execution_count": null,
      "outputs": []
    },
    {
      "cell_type": "code",
      "execution_count": 1,
      "metadata": {
        "id": "cktzM70kHR58"
      },
      "outputs": [],
      "source": [
        "import pandas as pd\n",
        "from urllib.request import urlopen\n",
        "from bs4 import BeautifulSoup\n",
        "import requests\n",
        "import re\n",
        "import spacy\n",
        "from sklearn.feature_extraction.text import CountVectorizer, TfidfVectorizer\n",
        "import nltk\n",
        "from nltk import FreqDist\n",
        "from nltk.tokenize import word_tokenize\n",
        "from nltk.corpus import stopwords\n",
        "from nltk.stem import PorterStemmer, WordNetLemmatizer\n",
        "import string\n",
        "import matplotlib.pyplot as plt\n",
        "from sklearn.linear_model import LogisticRegression\n",
        "from sklearn.neural_network import MLPClassifier\n",
        "from sklearn.metrics import classification_report, confusion_matrix, silhouette_score\n",
        "from sklearn.cluster import KMeans\n",
        "import string\n",
        "import numpy as np"
      ]
    },
    {
      "cell_type": "markdown",
      "source": [
        "The Emotions dataset contains documents with different\n",
        "emotion flag as categories (such as, sadness, anger, joy, etc.). Dataset is split into train, test & validation for building the machine learning model.\n"
      ],
      "metadata": {
        "id": "65vlY5swHcoF"
      }
    },
    {
      "cell_type": "markdown",
      "source": [
        "a) Load the train, test and validation datasets from csv files to pandas dataframe\n",
        "objects"
      ],
      "metadata": {
        "id": "0cHgFLVTHf1f"
      }
    },
    {
      "cell_type": "code",
      "source": [
        "train_data = pd.read_csv('train.txt', header=None, sep=';', names=['Sentence', 'Sentiment'])\n",
        "test_data = pd.read_csv('test.txt', header=None, sep=';', names=['Sentence', 'Sentiment'])\n",
        "validation_data = pd.read_csv(\"val.txt\", header=None, sep=';', names=['Sentence', 'Sentiment'])\n"
      ],
      "metadata": {
        "id": "6O2Dw3aTHdY1"
      },
      "execution_count": 2,
      "outputs": []
    },
    {
      "cell_type": "code",
      "execution_count": 3,
      "metadata": {
        "colab": {
          "base_uri": "https://localhost:8080/",
          "height": 206
        },
        "id": "LMXh3iNdHR59",
        "outputId": "65d6b2ea-0905-4337-e95f-770a571bef0d"
      },
      "outputs": [
        {
          "output_type": "execute_result",
          "data": {
            "text/plain": [
              "                                            Sentence Sentiment\n",
              "0                            i didnt feel humiliated   sadness\n",
              "1  i can go from feeling so hopeless to so damned...   sadness\n",
              "2   im grabbing a minute to post i feel greedy wrong     anger\n",
              "3  i am ever feeling nostalgic about the fireplac...      love\n",
              "4                               i am feeling grouchy     anger"
            ],
            "text/html": [
              "\n",
              "  <div id=\"df-6dc1d13e-57ce-41b1-a861-93c95f39418d\" class=\"colab-df-container\">\n",
              "    <div>\n",
              "<style scoped>\n",
              "    .dataframe tbody tr th:only-of-type {\n",
              "        vertical-align: middle;\n",
              "    }\n",
              "\n",
              "    .dataframe tbody tr th {\n",
              "        vertical-align: top;\n",
              "    }\n",
              "\n",
              "    .dataframe thead th {\n",
              "        text-align: right;\n",
              "    }\n",
              "</style>\n",
              "<table border=\"1\" class=\"dataframe\">\n",
              "  <thead>\n",
              "    <tr style=\"text-align: right;\">\n",
              "      <th></th>\n",
              "      <th>Sentence</th>\n",
              "      <th>Sentiment</th>\n",
              "    </tr>\n",
              "  </thead>\n",
              "  <tbody>\n",
              "    <tr>\n",
              "      <th>0</th>\n",
              "      <td>i didnt feel humiliated</td>\n",
              "      <td>sadness</td>\n",
              "    </tr>\n",
              "    <tr>\n",
              "      <th>1</th>\n",
              "      <td>i can go from feeling so hopeless to so damned...</td>\n",
              "      <td>sadness</td>\n",
              "    </tr>\n",
              "    <tr>\n",
              "      <th>2</th>\n",
              "      <td>im grabbing a minute to post i feel greedy wrong</td>\n",
              "      <td>anger</td>\n",
              "    </tr>\n",
              "    <tr>\n",
              "      <th>3</th>\n",
              "      <td>i am ever feeling nostalgic about the fireplac...</td>\n",
              "      <td>love</td>\n",
              "    </tr>\n",
              "    <tr>\n",
              "      <th>4</th>\n",
              "      <td>i am feeling grouchy</td>\n",
              "      <td>anger</td>\n",
              "    </tr>\n",
              "  </tbody>\n",
              "</table>\n",
              "</div>\n",
              "    <div class=\"colab-df-buttons\">\n",
              "\n",
              "  <div class=\"colab-df-container\">\n",
              "    <button class=\"colab-df-convert\" onclick=\"convertToInteractive('df-6dc1d13e-57ce-41b1-a861-93c95f39418d')\"\n",
              "            title=\"Convert this dataframe to an interactive table.\"\n",
              "            style=\"display:none;\">\n",
              "\n",
              "  <svg xmlns=\"http://www.w3.org/2000/svg\" height=\"24px\" viewBox=\"0 -960 960 960\">\n",
              "    <path d=\"M120-120v-720h720v720H120Zm60-500h600v-160H180v160Zm220 220h160v-160H400v160Zm0 220h160v-160H400v160ZM180-400h160v-160H180v160Zm440 0h160v-160H620v160ZM180-180h160v-160H180v160Zm440 0h160v-160H620v160Z\"/>\n",
              "  </svg>\n",
              "    </button>\n",
              "\n",
              "  <style>\n",
              "    .colab-df-container {\n",
              "      display:flex;\n",
              "      gap: 12px;\n",
              "    }\n",
              "\n",
              "    .colab-df-convert {\n",
              "      background-color: #E8F0FE;\n",
              "      border: none;\n",
              "      border-radius: 50%;\n",
              "      cursor: pointer;\n",
              "      display: none;\n",
              "      fill: #1967D2;\n",
              "      height: 32px;\n",
              "      padding: 0 0 0 0;\n",
              "      width: 32px;\n",
              "    }\n",
              "\n",
              "    .colab-df-convert:hover {\n",
              "      background-color: #E2EBFA;\n",
              "      box-shadow: 0px 1px 2px rgba(60, 64, 67, 0.3), 0px 1px 3px 1px rgba(60, 64, 67, 0.15);\n",
              "      fill: #174EA6;\n",
              "    }\n",
              "\n",
              "    .colab-df-buttons div {\n",
              "      margin-bottom: 4px;\n",
              "    }\n",
              "\n",
              "    [theme=dark] .colab-df-convert {\n",
              "      background-color: #3B4455;\n",
              "      fill: #D2E3FC;\n",
              "    }\n",
              "\n",
              "    [theme=dark] .colab-df-convert:hover {\n",
              "      background-color: #434B5C;\n",
              "      box-shadow: 0px 1px 3px 1px rgba(0, 0, 0, 0.15);\n",
              "      filter: drop-shadow(0px 1px 2px rgba(0, 0, 0, 0.3));\n",
              "      fill: #FFFFFF;\n",
              "    }\n",
              "  </style>\n",
              "\n",
              "    <script>\n",
              "      const buttonEl =\n",
              "        document.querySelector('#df-6dc1d13e-57ce-41b1-a861-93c95f39418d button.colab-df-convert');\n",
              "      buttonEl.style.display =\n",
              "        google.colab.kernel.accessAllowed ? 'block' : 'none';\n",
              "\n",
              "      async function convertToInteractive(key) {\n",
              "        const element = document.querySelector('#df-6dc1d13e-57ce-41b1-a861-93c95f39418d');\n",
              "        const dataTable =\n",
              "          await google.colab.kernel.invokeFunction('convertToInteractive',\n",
              "                                                    [key], {});\n",
              "        if (!dataTable) return;\n",
              "\n",
              "        const docLinkHtml = 'Like what you see? Visit the ' +\n",
              "          '<a target=\"_blank\" href=https://colab.research.google.com/notebooks/data_table.ipynb>data table notebook</a>'\n",
              "          + ' to learn more about interactive tables.';\n",
              "        element.innerHTML = '';\n",
              "        dataTable['output_type'] = 'display_data';\n",
              "        await google.colab.output.renderOutput(dataTable, element);\n",
              "        const docLink = document.createElement('div');\n",
              "        docLink.innerHTML = docLinkHtml;\n",
              "        element.appendChild(docLink);\n",
              "      }\n",
              "    </script>\n",
              "  </div>\n",
              "\n",
              "\n",
              "<div id=\"df-d7ddce18-2398-4f48-8195-36040c22e939\">\n",
              "  <button class=\"colab-df-quickchart\" onclick=\"quickchart('df-d7ddce18-2398-4f48-8195-36040c22e939')\"\n",
              "            title=\"Suggest charts.\"\n",
              "            style=\"display:none;\">\n",
              "\n",
              "<svg xmlns=\"http://www.w3.org/2000/svg\" height=\"24px\"viewBox=\"0 0 24 24\"\n",
              "     width=\"24px\">\n",
              "    <g>\n",
              "        <path d=\"M19 3H5c-1.1 0-2 .9-2 2v14c0 1.1.9 2 2 2h14c1.1 0 2-.9 2-2V5c0-1.1-.9-2-2-2zM9 17H7v-7h2v7zm4 0h-2V7h2v10zm4 0h-2v-4h2v4z\"/>\n",
              "    </g>\n",
              "</svg>\n",
              "  </button>\n",
              "\n",
              "<style>\n",
              "  .colab-df-quickchart {\n",
              "    background-color: #E8F0FE;\n",
              "    border: none;\n",
              "    border-radius: 50%;\n",
              "    cursor: pointer;\n",
              "    display: none;\n",
              "    fill: #1967D2;\n",
              "    height: 32px;\n",
              "    padding: 0 0 0 0;\n",
              "    width: 32px;\n",
              "  }\n",
              "\n",
              "  .colab-df-quickchart:hover {\n",
              "    background-color: #E2EBFA;\n",
              "    box-shadow: 0px 1px 2px rgba(60, 64, 67, 0.3), 0px 1px 3px 1px rgba(60, 64, 67, 0.15);\n",
              "    fill: #174EA6;\n",
              "  }\n",
              "\n",
              "  [theme=dark] .colab-df-quickchart {\n",
              "    background-color: #3B4455;\n",
              "    fill: #D2E3FC;\n",
              "  }\n",
              "\n",
              "  [theme=dark] .colab-df-quickchart:hover {\n",
              "    background-color: #434B5C;\n",
              "    box-shadow: 0px 1px 3px 1px rgba(0, 0, 0, 0.15);\n",
              "    filter: drop-shadow(0px 1px 2px rgba(0, 0, 0, 0.3));\n",
              "    fill: #FFFFFF;\n",
              "  }\n",
              "</style>\n",
              "\n",
              "  <script>\n",
              "    async function quickchart(key) {\n",
              "      const charts = await google.colab.kernel.invokeFunction(\n",
              "          'suggestCharts', [key], {});\n",
              "    }\n",
              "    (() => {\n",
              "      let quickchartButtonEl =\n",
              "        document.querySelector('#df-d7ddce18-2398-4f48-8195-36040c22e939 button');\n",
              "      quickchartButtonEl.style.display =\n",
              "        google.colab.kernel.accessAllowed ? 'block' : 'none';\n",
              "    })();\n",
              "  </script>\n",
              "</div>\n",
              "    </div>\n",
              "  </div>\n"
            ]
          },
          "metadata": {},
          "execution_count": 3
        }
      ],
      "source": [
        "train_data.head(5)"
      ]
    },
    {
      "cell_type": "markdown",
      "source": [
        "b) Perform the necessary pre-text processing (similar to previous questions) for\n",
        "vocabulary generation and representing text (try both CountVectorizer and\n",
        "TfidfVectorizer of sklearn or similar methods in NLTK library)."
      ],
      "metadata": {
        "id": "ThxPlsjuHlEN"
      }
    },
    {
      "cell_type": "code",
      "source": [
        "nltk.download('wordnet')"
      ],
      "metadata": {
        "colab": {
          "base_uri": "https://localhost:8080/"
        },
        "id": "KgepNt9MHpfO",
        "outputId": "26cf74cc-7979-4385-9925-db623dcff377"
      },
      "execution_count": 4,
      "outputs": [
        {
          "output_type": "stream",
          "name": "stderr",
          "text": [
            "[nltk_data] Downloading package wordnet to /root/nltk_data...\n"
          ]
        },
        {
          "output_type": "execute_result",
          "data": {
            "text/plain": [
              "True"
            ]
          },
          "metadata": {},
          "execution_count": 4
        }
      ]
    },
    {
      "cell_type": "code",
      "source": [
        "import nltk\n",
        "nltk.download('punkt')"
      ],
      "metadata": {
        "colab": {
          "base_uri": "https://localhost:8080/"
        },
        "id": "0C26L985HrVc",
        "outputId": "818c0dda-75d1-4eba-f914-10f1d0b730e4"
      },
      "execution_count": 5,
      "outputs": [
        {
          "output_type": "stream",
          "name": "stderr",
          "text": [
            "[nltk_data] Downloading package punkt to /root/nltk_data...\n",
            "[nltk_data]   Unzipping tokenizers/punkt.zip.\n"
          ]
        },
        {
          "output_type": "execute_result",
          "data": {
            "text/plain": [
              "True"
            ]
          },
          "metadata": {},
          "execution_count": 5
        }
      ]
    },
    {
      "cell_type": "code",
      "source": [
        "nltk.download('stopwords')"
      ],
      "metadata": {
        "colab": {
          "base_uri": "https://localhost:8080/"
        },
        "id": "A5CyzHrRIiBf",
        "outputId": "157026c1-9367-420c-e467-01d4c102ca99"
      },
      "execution_count": 9,
      "outputs": [
        {
          "output_type": "stream",
          "name": "stderr",
          "text": [
            "[nltk_data] Downloading package stopwords to /root/nltk_data...\n",
            "[nltk_data]   Unzipping corpora/stopwords.zip.\n"
          ]
        },
        {
          "output_type": "execute_result",
          "data": {
            "text/plain": [
              "True"
            ]
          },
          "metadata": {},
          "execution_count": 9
        }
      ]
    },
    {
      "cell_type": "code",
      "source": [
        "# train\n",
        "def preprocess_txt(train_data):\n",
        "    # Convert to lowercase\n",
        "    train_data = [i.lower() for i in train_data]\n",
        "\n",
        "    # Remove numbers\n",
        "    train_data = [re.sub(r'\\d+', '', data) for data in train_data]\n",
        "\n",
        "    # Punctuation Removal\n",
        "    string.punctuation\n",
        "    train_data = [\"\".join([i for i in tok if i not in string.punctuation]) for tok in train_data]\n",
        "\n",
        "    # Tokenization\n",
        "    tokens = [word_tokenize(wd) for wd in train_data]\n",
        "\n",
        "    # Stop Word Removal\n",
        "    stop_words = nltk.corpus.stopwords.words('english')\n",
        "    tokens = [[token for token in stp if token not in stop_words] for stp in tokens]\n",
        "\n",
        "    # Perform Stemming and Lemmatization\n",
        "    stemmer = PorterStemmer()\n",
        "    lemmatizer = WordNetLemmatizer()\n",
        "    stemmed_tokens = [[stemmer.stem(token) for token in orieja]for orieja in tokens]\n",
        "    lemmatized_tokens = [[lemmatizer.lemmatize(token) for token in bulaba] for bulaba in tokens]\n",
        "    preprocessed_txt = [' ' .join(lem) for lem in lemmatized_tokens]\n",
        "    return preprocessed_txt"
      ],
      "metadata": {
        "id": "1GUBV_92HtYS"
      },
      "execution_count": 10,
      "outputs": []
    },
    {
      "cell_type": "code",
      "source": [
        "x_train= preprocess_txt(train_data.Sentence)\n",
        "y_train = preprocess_txt(train_data.Sentiment)"
      ],
      "metadata": {
        "id": "ovsu77sXHwCg"
      },
      "execution_count": 11,
      "outputs": []
    },
    {
      "cell_type": "code",
      "source": [
        "x_test = preprocess_txt(test_data.Sentence)\n",
        "y_test = preprocess_txt(test_data.Sentiment)"
      ],
      "metadata": {
        "id": "5i2DsQLJHzD6"
      },
      "execution_count": 12,
      "outputs": []
    },
    {
      "cell_type": "code",
      "source": [
        "x_test"
      ],
      "metadata": {
        "colab": {
          "base_uri": "https://localhost:8080/"
        },
        "id": "miENoxpqH1dX",
        "outputId": "6e40141a-44ef-4cbb-dcd6-b5acbe62a7c0"
      },
      "execution_count": 13,
      "outputs": [
        {
          "output_type": "execute_result",
          "data": {
            "text/plain": [
              "['im feeling rather rotten im ambitious right',\n",
              " 'im updating blog feel shitty',\n",
              " 'never make separate ever want feel like ashamed',\n",
              " 'left bouquet red yellow tulip arm feeling slightly optimistic arrived',\n",
              " 'feeling little vain one',\n",
              " 'cant walk shop anywhere feel uncomfortable',\n",
              " 'felt anger end telephone call',\n",
              " 'explain clung relationship boy many way immature uncommitted despite excitement feeling getting accepted master program university virginia',\n",
              " 'like breathless feeling reader eager see happen next',\n",
              " 'jest feel grumpy tired pre menstrual probably week im fit walrus vacation summer',\n",
              " 'feel particularly agitated',\n",
              " 'feel beautifully emotional knowing woman knew handful holding baba journey',\n",
              " 'pay attention deepens feeling invaded helpless',\n",
              " 'feel extremely comfortable group people dont even need hide',\n",
              " 'find odd position feeling supportive',\n",
              " 'feeling heartbroken im sure katniss',\n",
              " 'feel little mellow today',\n",
              " 'feel like role would tear sail pessimism discontent',\n",
              " 'feel bcoz fight get mad n u wan na make publicity n let world know fight',\n",
              " 'feel like red purple rich kind perfect',\n",
              " 'im sure feeling loss ever go away may dull sweet feeling nostalgia shared life dad luck dad year',\n",
              " 'feel like ive gotten know many comment email im appreciative glad part little space',\n",
              " 'survey post last year feel pleased vague snippet feel little bit capture like someone like dublin st century',\n",
              " 'also tell hope anyone still feeling stigmatized ashamed mental health issue let go stigma let go shame',\n",
              " 'feel guilty like going able cook',\n",
              " 'hate feel fearful absolutely reason',\n",
              " 'feeling outraged show everywhere',\n",
              " 'stole book one time favorite author feel like rotten person',\n",
              " 'feel insecure sometimes doesnt',\n",
              " 'highly recommend visiting wednesday youre able le crowded get ask farmer question without feeling rude holding line',\n",
              " 'ive missing feeling restless home thinking',\n",
              " 'posted facebook page earlier week ive feeling little grumpy sort past day',\n",
              " 'start feel emotional',\n",
              " 'feel cold href http irish',\n",
              " 'feel like defective something baby fever',\n",
              " 'feel virtuous eat veggie dipped hummus',\n",
              " 'feel honoured included magzine prioritises health clean living highly im curious read magazine concerned health clean lifestyle green parent',\n",
              " 'spent last two week school feeling miserable',\n",
              " 'im feeling peaceful wedding',\n",
              " 'talking coach claudia barcomb coach ali boe long time made feel welcomed union',\n",
              " 'feel completely hated thing exercise democratic right speak mind ever way possible try enact change',\n",
              " 'feel humiliated embarrassed foolish remember others felt way kind thing kind helpful accepting',\n",
              " 'feel reassured dealing diet right way good',\n",
              " 'feel agree even though imagine rather unpleasant possible case',\n",
              " 'im happy mood today feel almost delighted havent done anything different today normally wonderful',\n",
              " 'im feeling really place irritated',\n",
              " 'also know feel nothing friendly affection',\n",
              " 'feel like rather productive weekend cant always say matter much get done',\n",
              " 'im feeling insecure moment',\n",
              " 'feeling pretty anxious day first day work good day helped lot',\n",
              " 'stood finally stood feel like im punished could go back',\n",
              " 'feel little nervous go gym',\n",
              " 'feel like could go situation become successful competing life explained schaub interview href http bleacherreport',\n",
              " 'stop anxiety feel alone got distraction',\n",
              " 'im trying feel house style im living creative carte blanche',\n",
              " 'tried see would like liked one girl friend never really worked ever feel emotional connection friend',\n",
              " 'every intention gardening morning still cool feeling rotten',\n",
              " 'good feeling excited',\n",
              " 'feel like starting understand blessing come submissive father',\n",
              " 'think thing ive said stuff done make feel disgusted making happy smile far',\n",
              " 'woke yesterday monday morning feeling little depressed',\n",
              " 'feel embarrassed',\n",
              " 'spent wandering around still kinda dazed feeling particularly sociable id hiding couple day getting little unhealthy made go cross hang folk',\n",
              " 'honestly say sistahs chat feel invigorated blessed',\n",
              " 'still feel stupid class cause pbs fault',\n",
              " 'feel little stunned imagine folk working studio morning feeling',\n",
              " 'admit im feeling little bit unloved point',\n",
              " 'feel bit stressed even though thing going fun',\n",
              " 'im feeling pretty anxious',\n",
              " 'feel shocked sad fact many sick people',\n",
              " 'think always proponent idea slightly possible feeling particularly charming new england girl brought around way thinking',\n",
              " 'feel like naughty school girl falling behind',\n",
              " 'right handed however play billiards left handed naturally trying play right handed feel weird',\n",
              " 'feel kind friendly understand feeling',\n",
              " 'go overseas cross border become foreigner feel way never beloved land',\n",
              " 'feel disgusted man power talk electricity problem area say even house similar problem',\n",
              " 'feel transcendant splendid',\n",
              " 'finally arrived home couple hour later feeling somewhat exhausted dehydrated even sun burnt',\n",
              " 'feeling totally relaxed comfy',\n",
              " 'want feel gentle embrace',\n",
              " 'feel privileged world',\n",
              " 'people person fuckin reason people feel come bore fuckin petty garbage',\n",
              " 'realized mistake really feeling terrible thinking',\n",
              " 'suppose feel trusting sometimes',\n",
              " 'came home waiting shower read something made upset thats feel discontent haha',\n",
              " 'woke feeling crappy tired fighting feeling day maybe pollen barometric pressure dont know know kilter',\n",
              " 'feel like paradise kissing sweet lip make feel like dive magical world love',\n",
              " 'feeling happy',\n",
              " 'running approximate minute pace feel quite acceptable',\n",
              " 'feel disappointed ex girlfriend call back',\n",
              " 'feeling people using need enjoying feeling fly carefree tongue alright',\n",
              " 'feeling uncertain merit posting blog frequency earnestness previous year',\n",
              " 'plain feel envious self confidence',\n",
              " 'feeling weird day went away minute took metformin',\n",
              " 'friend dropped frog neck',\n",
              " 'im feeling angry someone something thoughtful feeling toward soften',\n",
              " 'love neglecting blog sometimes feel faithful reader',\n",
              " 'lay bed feeling though awaiting unwelcome visitor nevertheless told strong thought good thing felt better',\n",
              " 'feel heart tortured done',\n",
              " 'still feeling weepy strung maggie treated ice cream movie href http www',\n",
              " 'feel needy comfortable feel vulnerable secure feel urge cum hard get relief',\n",
              " 'journaled tendency sometimes overcommit make feel exhausted overwhelmed',\n",
              " 'started feeling discouraged morning',\n",
              " 'feel agitated foresee frustration earlier leading ending relationship',\n",
              " 'grab air smooth frame feel cold touch',\n",
              " 'angry boyfriend promised come see spent evening pal',\n",
              " 'hate sitting hostel writing feeling perfectly fine get home problem wall',\n",
              " 'exercise feel energetic able perform task good manner',\n",
              " 'looked mabel morning named left breast mabel right one hazel feel weird mixture anger loss valerie wrote le month diagnosis',\n",
              " 'im feeling pretty disheartened whole thing',\n",
              " 'feel input valued le potent say irfan pathan',\n",
              " 'feel generous',\n",
              " 'even feel little shaky',\n",
              " 'feeling better though dont sound',\n",
              " 'always feel troubled road touring living van recently circus bus place hang hat song lyric',\n",
              " 'feel world much innocent place',\n",
              " 'feel thoroughly virtuous even daily trip compost bin pleasant experience',\n",
              " 'im feeling anything suspicious really',\n",
              " 'feeling little sentimental today',\n",
              " 'feel like know starting develop like dislike though keen snap eviction seemed pretty pointless first one go returned two webmates made absolutely zero impact missed',\n",
              " 'feel le whiney since sun came sf area',\n",
              " 'made wonderfull new friend',\n",
              " 'feel almost embarrassed mention single redshank common sandpiper would want mention lone wood sandpiper present water edge',\n",
              " 'know easy feel little envious cant tell shouldnt',\n",
              " 'would feel awful whole time',\n",
              " 'feel mislead someone really really thought knew liked much',\n",
              " 'feel like doomed u human',\n",
              " 'going check minute clock screen keep ticking minute left feeling bit frantic',\n",
              " 'got sleep could choose woken alarm definitely take anything make feel groggy',\n",
              " 'ive boring week feeling bit gloomy cause rainy day',\n",
              " 'feel information vital moving day complete read',\n",
              " 'im feeling generous today here one may already seen good chuckle',\n",
              " 'feel awkward calling one people blue hang rather familiar deeper level kith kin',\n",
              " 'like feeling get someone even little bit offended offhand remark made',\n",
              " 'get crumble thanks feeling need tell im one fucked',\n",
              " 'controlling growth business every time post work client feel even determined make full time business one day',\n",
              " 'pregnant dean spent rest pregnancy feeling terrified another baby',\n",
              " 'actually feel agitated led terrible day yesterday unable concentrate anything basically piddled day away',\n",
              " 'ed tell know feel shamed eating protein bar breakfast fact ate one make shameful fact make made hang head tuck tail',\n",
              " 'feel radiant bright accomplished happy',\n",
              " 'feel refrigerator magnet popular year ago',\n",
              " 'feeling touch deprived happening',\n",
              " 'feeling apprehensive also wildly excited',\n",
              " 'feeling pretty relaxed time boarded new looking airbus headed hazy sky en route honolulu',\n",
              " 'quiet person say feel important',\n",
              " 'think started feel little homesick',\n",
              " 'feeling eager start work man work literally say uhm guy want go back see find anything',\n",
              " 'feel uncomfortable since smaller rib cage bigger chest either spilling top tank elastic band support tight loose',\n",
              " 'im feeling reluctant exit freshly cleaned apartment stayed cleaning late last night',\n",
              " 'feel need know depend put position supporting someone else supported someone else',\n",
              " 'im feeling rather angsty listless',\n",
              " 'try best love shed light feel deeply compassionate problem hurt even someone medium',\n",
              " 'uncomfortable feeling weird feeling sure contraction since never really felt contraction jared jacked pitocin',\n",
              " 'feel gloomy tired',\n",
              " 'really like person feel question really asked sincere place love concern move forward light sexuality study recently href http www',\n",
              " 'would force eat normal routine clean meal day started feeling awful',\n",
              " 'feel rather privileged witnessed great man action really impossible novice like work one four identical looking rider',\n",
              " 'feel like im spa getting wonderful facial use',\n",
              " 'feel petty sudden',\n",
              " 'hope like honest amp raw blog post amp feeling unhappy hope make feel le alone',\n",
              " 'feel slightly disgusted well',\n",
              " 'quite surprised weather past day im thankful since still wear short without feeling cold yes kidding',\n",
              " 'feel slightly relaxed',\n",
              " 'feel shy admit struggling haul single computer',\n",
              " 'went script would like mustard sauce started feel really startled',\n",
              " 'enjoy colleague feeling sociable today',\n",
              " 'im feeling ive liked pregnant',\n",
              " 'feel tender touch enfold love',\n",
              " 'lost people hate really hard time letting go people feel loyal',\n",
              " 'interest make effort meet men chance arrises feel burdened negative thought another idiot one thing',\n",
              " 'feel nutritionally supportive well',\n",
              " 'feel impatient post blog entry feel ive gotten word written world',\n",
              " 'trying hardest get place join finally feel like something worthwhile say',\n",
              " 'admit feel amused see pti jamiat whole lot others medium try avoid suggestion actually protesting use sharia case raymond davis release',\n",
              " 'feel embarrassed got bad',\n",
              " 'im feeling really bitter one',\n",
              " 'feel brave today heading amman beirut way istanbul feel brave today href http jessicadickinsongoodman',\n",
              " 'fab christmas amazing new year family friend odds feel optimistic',\n",
              " 'feel like loser everyone say lost dont know exactly hate oh',\n",
              " 'feel defeated others feel refreshed',\n",
              " 'feeling particularly vulnerable specific area began talking friend interestingly enough incredible understanding struggle',\n",
              " 'go onto officer memorial page reflect feeling wonderful officer seems make feel little better',\n",
              " 'im group people still feel isolated outside looking',\n",
              " 'feel blessed know family',\n",
              " 'feel terrified landlord changed lock yet',\n",
              " 'loosing feel like much share many anything unfortunate anything make grateful',\n",
              " 'like eating meal feel virtuous',\n",
              " 'left feeling pretty thrilled opportunity least throw name hat',\n",
              " 'feel kinda weird andrea try talk chris',\n",
              " 'loved ellie didnt feel insulted rude douche baggy thing lothaire said according ellie insult hurt come somebody respect damn straight',\n",
              " 'feel pretty triumphant',\n",
              " 'im enjoying solitary confinement home rarely feel lonely',\n",
              " 'dramatic feel strongly resolved speak next chance get',\n",
              " 'really dont like quinn feel like end hurting barney hated lame ted robin storyline',\n",
              " 'feel lousy shouldnt focusing',\n",
              " 'cant remember ever feeling exhausted took trip car last day get everything brought trailer',\n",
              " 'wrote two year ago many thing feel unsure maybe',\n",
              " 'feel suspicious informality lack credential',\n",
              " 'receive every month make proud feel appreciative',\n",
              " 'feel third situation pretty much sum feeling toward title',\n",
              " 'wanted feel hand reached take waiting eager mouth',\n",
              " 'feel gentle way wth',\n",
              " 'got home feeling hot tired great',\n",
              " 'feel creative',\n",
              " 'feel talented use computer',\n",
              " 'feel unfathomably rich healthy pregnancy far',\n",
              " 'wish know whether feel sympathetic towards airline american say plane fire pilot exploded whether want set fire say decided walk obligation save money',\n",
              " 'want feel pressured',\n",
              " 'still feel frightened world yet near much used',\n",
              " 'im feeling mellow',\n",
              " 'wake early feel grumpy',\n",
              " 'believe come work place try make feel humiliated know deep heart know one ashamed',\n",
              " 'finally get laugh left feeling delighted exhausted privileged',\n",
              " 'remembering feeling skeptical',\n",
              " 'pretty brazen goal day feel stronger confident going reach desired end result',\n",
              " 'feel dirty talking people personal gain',\n",
              " 'sat cold flashed back going hockey city classic degree weather feeling cold even though degree difference night',\n",
              " 'feel numb carry wonder get',\n",
              " 'somewhat coerced blog review feel bit rushed flustered',\n",
              " 'guess wont feel jealous since often mothering pool nice husband',\n",
              " 'im sure feel needing exercise maintain pleasant demeanor',\n",
              " 'feel alarmed',\n",
              " 'think wanted audience feel impressed inspired entertained stage',\n",
              " 'wasnt feeling well yesterday morning afternoon laid bed ended familiar youtube black hole',\n",
              " 'terrible feeling hyped talented',\n",
              " 'take half marathon challenge wait see body feel whether pb attempt casual kilometre shuffle',\n",
              " 'help feel pissed side debate unnecessary dichotomy',\n",
              " 'feel like cant respected self respect regular hate self',\n",
              " 'smiled feeling longing said maybe later buddy make lunch',\n",
              " 'truly unfortunate majority time usually drained obtain hard get bed really feel restless others',\n",
              " 'feeling rather damaged',\n",
              " 'said feel ugly today',\n",
              " 'left garmin bike going feel coming transition amazing hearing cheer adrenaline going crazy',\n",
              " 'feel smart find way trick like',\n",
              " 'love dance often feel inhibited body unsure capable hyper concerned people watching opinion style feeling awkward idea supposed',\n",
              " 'feel like card perfect thing make',\n",
              " 'feel like heroine tragic manga',\n",
              " 'feel safer working part time casual hr',\n",
              " 'ambushed apparently fault feel worthless',\n",
              " 'feel privileged part something eternal precious lord jesus shed blood church like could exist',\n",
              " 'feel wholly inadequate task',\n",
              " 'feeling bit naughty scanning article magazine know many people would love read thi',\n",
              " 'see pitcher mound little league diamond feel anxious look isolated',\n",
              " 'feel like joining mass go rebellion popular mentality ha goth take peace knowing making resolution everyone else',\n",
              " 'feel disillusioned occult come feel greater connection earth',\n",
              " 'feel stupid whenever happens',\n",
              " 'come home feel shitty cant bring work need',\n",
              " 'feel like irritable sensitive combination skin finally met match',\n",
              " 'like though top make feel clever association',\n",
              " 'practice meditation feel overwhelmed hopefully become successful peaceful practice',\n",
              " 'feel like vain cant right feel wrong heart mine',\n",
              " 'hope everyone help charity work without feeling stressed thing',\n",
              " 'feel guilty putting child daycare',\n",
              " 'get frustrated unresolved issue past severe negative effect behavior feel must angry resolved',\n",
              " 'feel blessed beyond blessed share life week',\n",
              " 'feel devastated thing lost remind grateful still',\n",
              " 'im feeling energetic',\n",
              " 'come understand feeling neither positive negative',\n",
              " 'like asked reason behind mood feeling gloomy laugh',\n",
              " 'feel really bothered lack time get find inspiration',\n",
              " 'used able hang around talk cashier putting away money feel rushed stressed take second fumble coin put purse',\n",
              " 'feel frustrated world around lie shattered go walk rain body could see eye full tear delivery system justice conceptualized court learning hard way',\n",
              " 'realized passionate helping woman feel accepted appreciated',\n",
              " 'could change emphasis say stella noticing feeling impatient',\n",
              " 'like outsourcing picky sod usually end feeling dissatisfied work others force outsource need realize everything',\n",
              " 'feel blessed honored get parent',\n",
              " 'feel welcomed little weird',\n",
              " 'feel like entertained sd day',\n",
              " 'ive struggled mightily today even though feel cranky tired unmotivated still really going going sleep eleven thirty',\n",
              " 'remember sitting porch feeling drained alone even sunlight bathed hair warm radiance light breeze cooled cheek',\n",
              " 'didnt feel rushed thing dhawan tweet script type text javascript src http platform',\n",
              " 'realized feeling really irritated saying',\n",
              " 'balancing hand foot hanging feel like pretty far im terrified let drop im totally calm time hanging',\n",
              " 'feel fucking worthless',\n",
              " 'feel like lot men royally fucked go life wreaking havoc end destroying process',\n",
              " 'feel devastated art style copied',\n",
              " 'feel fine feeling well fine',\n",
              " 'begin feel distraught must',\n",
              " 'also didnt feel could mad god know inside god nothing without purpose',\n",
              " 'think feeling little drained work well',\n",
              " 'gather supply start check progress via internal exam head midwife prepares start iv calmly asks others assistance feel reassured calmness',\n",
              " 'feel crappy eat crappy',\n",
              " 'feel numb',\n",
              " 'feel extremely honoured received prestigious award',\n",
              " 'im feeling adventurous successful quest far',\n",
              " 'feel thrilled three distinguished individual',\n",
              " 'figured parent wont make feel accepted stopped trying turned romantic relationship men',\n",
              " 'left feeling empty',\n",
              " 'feel pretty much like scene href http www',\n",
              " 'may really feeling superior certainly feeling answer wasnt',\n",
              " 'feel ludicrous wasting space trite looked book first come something little original',\n",
              " 'feel like wimpy canoe floating towards rising tsunami',\n",
              " 'feel sympathetic towards tired weary see split second doubt could make effortless action standing still seem like better option',\n",
              " 'start feel unloved unappreciated',\n",
              " 'want know feeling loving loved',\n",
              " 'feel strange talking le serious thing right like cooking',\n",
              " 'sometimes urge freak feel bothered usually nothing caused feel bothered irritated scratch arm mad',\n",
              " 'feel miserable doesnt care',\n",
              " 'surprised cause like ok feel crappy continues like day really try avoid getting sickness',\n",
              " 'im feeling slightly irritable today',\n",
              " 'like add thing already completed day new list feel productive cross',\n",
              " 'always feel rushed email dont like asa este',\n",
              " 'feel like sweet apple',\n",
              " 'impressed show especially h moved talented kid feel passionate production music theatre school always happy endorse many h production throughout season time',\n",
              " 'feel like supporting somehow im sure',\n",
              " 'lot going life feel overwhelmed',\n",
              " 'took granted week ago really weird make feel really agitated frustrated',\n",
              " 'also know feel like relationship feel like burden much worth loving pursuing',\n",
              " 'know mean feeling agitated',\n",
              " 'feeling pressured blog bad',\n",
              " 'feel like sociable aaaah',\n",
              " 'didnt feel deprived chai morning',\n",
              " 'feeling unsure near breaking point',\n",
              " 'remember leaving church feeling invigorated every sunday tuesday night',\n",
              " 'nolonger tell anybody feel im thinking cause seems get hated already',\n",
              " 'asked meant shes gon na feel jealous loada girl said maybee like bitt',\n",
              " 'feel supporting troop demanding send young men woman harm way bear arm country done nothing threaten u point',\n",
              " 'feel funny sometimes',\n",
              " 'feeling crampy cranky',\n",
              " 'indicated feeling quite overwhelmed work responsibility teaching traveling writing',\n",
              " 'say even feeling embarrassed pause rewind dvred commercial breaking dawn preview come',\n",
              " 'spend lot time feeling disappointed better job attaining goal',\n",
              " 'feel stressed love feeling calming spirit heavenly father feeling keep working',\n",
              " 'feel thankful greeted many friend family',\n",
              " 'longer feel doomed falling abyss way',\n",
              " 'bought urban outfitter could fit mm film feeling remorseful ever since',\n",
              " 'feel accepted',\n",
              " 'ive feeling briar beagle would give one disgusted look even tried exercising souless surroundings',\n",
              " 'need accept treated like princess everyday without feeling dumb situation',\n",
              " 'got nap feeling really rotten exhausted feel like could wilt onto floor sitting',\n",
              " 'feel indecisive',\n",
              " 'feel pressure vessel seriously damaged far radiation would leaked said',\n",
              " 'better thing feel humiliated',\n",
              " 'feel check wonder see got get loving unconditionally',\n",
              " 'ive feeling bit melancholy',\n",
              " 'believe feeling accepted non judgemental way healing',\n",
              " 'feel stressed',\n",
              " 'feel benevolent enough buy peanut treat',\n",
              " 'feel fine class pin button count layout horizontal pin',\n",
              " 'feel worthless useless past week im certified stander home',\n",
              " 'feel immensely distracted barrage medium receive solicit',\n",
              " 'ive feeling adoring fan would teh whole like friend felt brave excited ventrured forth guitar hand local open mic night',\n",
              " 'love captured atmospheric feeling landscape really impressed',\n",
              " 'hand started fondling aching cock fabric boxer instinctively arched back feel delicious sensation',\n",
              " 'feeling energized productive creative',\n",
              " 'feeling lucky',\n",
              " 'feel vital keeping spirit young even body fade',\n",
              " 'feel agitated annoyed worried fearful feeling easily lead short tempered family feeling disharmony',\n",
              " 'still feel scared every time go strange place',\n",
              " 'feel author talented',\n",
              " 'feel jaded bored',\n",
              " 'im pretty sure week half although im feeling kind betrayed disillusioned men moment everythings okay',\n",
              " 'feel like ive lost mind',\n",
              " 'could feel breath smell sweet scent',\n",
              " 'could take belief feeling lock safe somewhere get human life squared away everyone know would lot happier perhaps',\n",
              " 'feeling sinfully horny sunday morning',\n",
              " 'feel like someone listen sympathetic',\n",
              " 'ive feeling little blank could think nothing write might interesting explore mind captivated',\n",
              " 'feel sleep drained head sat dog nudging affection wife wanting affection',\n",
              " 'feel aid woman infertility disorder valuable individual guidance offered restricted number people',\n",
              " 'remember feeling envious would young healthy person envy someone barely survived',\n",
              " 'im still feeling emotional',\n",
              " 'im last bit sleep get morning feel like emotional energy wait',\n",
              " 'know nothing going change even feel envious people cant stop feeling jealous people human being instinct act',\n",
              " 'im happy feel energy inspired craft',\n",
              " 'struck masculine feel strong graphic deep color month painting nighthawk edward hopper',\n",
              " 'feel like youre body im trying affectionate feel like im molesting stranger dont even know',\n",
              " 'think opposite get feel defeated everything possible keep baby healthy sugar check',\n",
              " 'trying feel bitter else feel seems desire pretty much impossible',\n",
              " 'feel nagged stop caring',\n",
              " 'feel totally useless today',\n",
              " 'feel honored receive grassroots preservation award',\n",
              " 'feel contented hearing said hellip',\n",
              " 'reminded pavement yurusei yatsura coheed cambria without feeling offended ripped',\n",
              " 'feel positive regard',\n",
              " 'im feeling lot le ugly duckling lot href http',\n",
              " 'suppose one feeling generous one could say stressed elevator ride',\n",
              " 'im feeling kind melancholy really want go home cuddle boy',\n",
              " 'feel like people love want need talk connect anymore fucked mental health emotional problem help contribute contain understand encompass',\n",
              " 'feel suffering bear take refuge lord blessed sacrament speak profound silence',\n",
              " 'feel afraid agn lol whats new',\n",
              " 'writing sharing much story believe heart world need know rich god feeling angry towards trying bash people leader parent',\n",
              " 'im feeling dazed alot thing mind',\n",
              " 'feel scared voice start speak',\n",
              " 'feel honoured part bond family much hope chance work sometime future',\n",
              " 'feel insulted pete edochie responds death',\n",
              " 'feel hostile extent',\n",
              " 'always feel pressured',\n",
              " 'electrocuted thumb cant type well cant really know feel finger acceptable excuse late paper',\n",
              " 'carried phone pocket feel pull get lost',\n",
              " 'sit writing feel unhappy inside',\n",
              " 'could feel mother sympathetic dread diagnosed',\n",
              " 'get disappointed make feel rejected especially disappointed loved one',\n",
              " 'left feeling brow beaten',\n",
              " 'feeling vulnerable nervous worried anxious bit lost',\n",
              " 'feeling defeated usually pick thing easily way getting',\n",
              " 'certainly acquired taste lately many around seemed feel taste bitter',\n",
              " 'feel rich life real online filled friend family would want live without',\n",
              " 'feel bad saying happy dont think way im going anymore',\n",
              " 'ive feeling afraid lot lately',\n",
              " 'see momo feel shy momo hmmm gt heyy momo',\n",
              " 'feel amused looking little turtle sneaked',\n",
              " 'purple month doesnt feel surprised fact zhuo feng many pupil clear xiao identity dont even say main star feng young',\n",
              " 'feel like way humiliated asa guy obssessed played embarrassing joke getting caught tabby wife tabby lover married blindly fell love',\n",
              " 'feel like breathing delicate dried rose petal sometimes',\n",
              " 'im thankful feel somewhat energetic instead dead fish would become every time every chemo',\n",
              " 'feel honored today want share emotion gratitude received complimentary email someone read thought provoking perspective',\n",
              " 'ive tried bare mineral make feel like face dirty',\n",
              " 'feel quite passionate old child undergo beauty treatment',\n",
              " 'feel like going struggle fail suffer really dumb',\n",
              " 'im feel little bit shy talked second manage saw eye there something girl',\n",
              " 'love place series real hero love way couple book fall love feel violent crazy place call home',\n",
              " 'feel lively full bounce',\n",
              " 'always sincere nice feeling sociable compassionate helpful girl',\n",
              " 'feel like obnoxious nagging call time everyday tag alonger finally sick tolerating giving cold shoulder',\n",
              " 'loved feeling got amazing slalom run whether training race',\n",
              " 'feeling especially shy awkward know many people',\n",
              " 'im still feeling little groggy lack sleep shall try replenish',\n",
              " 'sitting home revising today feeling quite stressed',\n",
              " 'guess feeling meant inhibited prohibited',\n",
              " 'embraced feeling thankful middle wall partition thus far broken',\n",
              " 'began feel strange',\n",
              " 'feel pressured constrained choice behave particular way felt busy',\n",
              " 'one low carb meal bar breakfast feeling smug spotted left pie muffin attractive food',\n",
              " 'im going life feeling rather totally numb',\n",
              " 'dont want flower candy kind guy know like thinly sliced lime mineral water make feel glamorous humored pretentious',\n",
              " 'feel unprotected class post count link href http reprogramming process',\n",
              " 'always feel really confident life choice go home',\n",
              " 'feeling frustrated session attended',\n",
              " 'feel like last year especially gone girl woman despite hesitant always getting older next year twenty four surprised pleased done',\n",
              " 'feel attacked insulted helpful realize idea attack alive well mind',\n",
              " 'ive missed feeling ive missed ive missed something work towards keep focus keep phone potential trouble get',\n",
              " 'im feeling bit uncomfortable',\n",
              " 'know nowhere near worse brother overseas right feel like im physically emotionally spiritually assaulted',\n",
              " 'feeling reluctant overwhelmed try think alternative abandoning dream',\n",
              " 'usually like sam sometimes get downright whiny admit mistake made due sibling rivalry pride eventually led end season kind made feel le tragic whole thing',\n",
              " 'hope shes feeling generous today treat japanese food something haha great day',\n",
              " 'feeling bit offended',\n",
              " 'offend easily feel intelligence insulted',\n",
              " 'always feel bit awkward comment someone blog invariably go rabbit trail feel though overstepping like tell find feeling way mind slightest',\n",
              " 'feel like may coming point tv series show incredibly popular sadly writer coming end story line soon nothing left keep plot float',\n",
              " 'entertaining memory time feeling like guy movie dazed confused say keep getin older girl stay age',\n",
              " 'continue enforce playdate policy meant continued feel angry twice day horrible morning drop afternoon reminded noah couldnt play bad drop missing mommy',\n",
              " 'woke feeling groggy grumpy like last thing wanted make dinner',\n",
              " 'wake feeling like something terrifyingly bad bound happen even get chance stick limb outside cover',\n",
              " 'feel god life ever thing wonderful right',\n",
              " 'feel like ive neglectful friend due fact feel like hinderance stay away',\n",
              " 'know could look upon sea sky without feeling mildly discontent',\n",
              " 'hate feeling like bullshit ok done bye',\n",
              " 'tasted hari raya cooky feeling greedy would go prebook kueh makmur tart know hygiene standard ingredient',\n",
              " 'sit feeling drained really wonder reach point',\n",
              " 'buy something go look else didnt buy bit comparison suddenly feel dissatisfied purchase',\n",
              " 'ive feeling incredibly inadequate usual gotten point almost feel paralyzed',\n",
              " 'im amazed many men say feel unloved house messy fix dinner',\n",
              " 'feel restless weekend heading way',\n",
              " 'feel ugly cover beautiful blanket make believe gown',\n",
              " 'always said felt blessed today feeling reassured many time',\n",
              " 'cant strappy shoe work feel weird took thrifted ninewest',\n",
              " 'love fact look best feel terrific eat right constantly exercise',\n",
              " 'decent article knew likely good information initial response feel offended want argue despite fact talking exactly',\n",
              " 'moment feel overwhelmed eye well tear',\n",
              " 'started feeling thankful food able enjoy delicious thing got cooking baking healthy meal family',\n",
              " 'want tag people think silly people want tagged want make feel unwelcome',\n",
              " 'im taking allowing get sleep wonderful leaving feeling groggy nauseated',\n",
              " 'feel unpleasant drop stomach elevator door open floor',\n",
              " 'feel highly talented bunch roling cyclinders',\n",
              " 'feel hand stay faithful',\n",
              " 'focused heavy breathing even stride drop sweat forehead forgot feel socially awkward',\n",
              " 'cant help feeling way',\n",
              " 'feel like would order carryout lived area still curious try taco',\n",
              " 'feel afraid whatever ad anything happen idc good bad afraid hope god help whatever',\n",
              " 'entered living room horrible feeling aching depth stomach',\n",
              " 'feel glad finland well known visual artist vesa kivinen called work',\n",
              " 'feel relatively safe normal whatever might call',\n",
              " 'feel bitchy saying think next saturday want alone',\n",
              " 'feel honored shortlisted within patient ambassador volunteer category recognises member public staff provide outstanding help support volunteering providing patient opinion either public partnership forum patient panel',\n",
              " 'feel quite helpless prayer effective tool answer nothing else offer right',\n",
              " 'know feel pretty disgusted nonstop lefty propaganda ministry churn public tuned',\n",
              " 'feel complacent satisfied',\n",
              " 'ventured fabric amp fabric whim yesterday feeling bit nervous knowing would tempted beyond comfor',\n",
              " 'havent feeling homesick knowing getting together enjoy mum cooking make want teleporter',\n",
              " 'feel ugly hated',\n",
              " 'feeling whether mad sad disappointed peaceful',\n",
              " 'feel talented enough team win game go deep tournament',\n",
              " 'feel innocent one dream fill brain crazy',\n",
              " 'never feel depressed cancer learnt live sleep',\n",
              " 'feel pressure falling shoulder im feeling slightly doubtful lead unhappy thought usually like optimistic self must say',\n",
              " 'kind feel little petty',\n",
              " 'hostage negotiator case feeling hopeful future',\n",
              " 'believe people choose cause feel passionate right desire push charity worthy another',\n",
              " 'feel privileged allowed sanctum studio many different painting study lining wall morph grow week week',\n",
              " 'grew feeling rejected male peer',\n",
              " 'feel like make valued input tried much possible ensure equal part construction',\n",
              " 'described feeling feeling control completely restless fear could still happen obsession trying fact working',\n",
              " 'feel important fancy room fancy furniture nice view downtown dallas',\n",
              " 'wan na feel good',\n",
              " 'never feel like im supporting',\n",
              " 'want snap simply feel simply live laugh enjoy life matter idiotic',\n",
              " 'assumed would feel casual',\n",
              " 'admit left feeling shaken bit goose',\n",
              " 'feel dangerous especially new believer grounded word god',\n",
              " 'rearranged furniture flat got stuck chair',\n",
              " 'feeling stressed bit anxious',\n",
              " 'persevered storm rejection feeling confident god called',\n",
              " 'feeling comfortable first fight saw thing working expecting better rendall munroe think might underestimated first time around',\n",
              " 'im quite sure really feel im pretty sure realizes going miss getting watch parade something really enjoys',\n",
              " 'feel somewhat fake group',\n",
              " 'feeling particularly pissed wanted go party',\n",
              " 'feel like im still quite bad describing feeling good word beautiful phrase',\n",
              " 'feel heartbroken paul walker tragic disappearance life someone generous beautiful talented end way horrible individual keep living torturing assaulting killing people',\n",
              " 'feel perfectly mellow',\n",
              " 'feel give credit jen mitchell gorgeous card href http www',\n",
              " 'alternating feeling thrilled see dad family weekend terrified black sheep among normalcy',\n",
              " 'feel sweet boy',\n",
              " 'feel helpless superfluous jenn elaine naturally',\n",
              " 'thought didnt feel anything anymore ok well today different story feel want heart hurt thinking wont around still want around guess still valid',\n",
              " 'im feeling better hopefully thing start falling back old routine',\n",
              " 'hope feel incredibly cool',\n",
              " 'watched news tv',\n",
              " 'really go looking definately see enjorlas marius ship come though sadly feel mostly one sided marius nothing rich schoolboy following whim without thought concequences',\n",
              " 'feel gracious gesture apologizing latest post osp rand license term',\n",
              " 'get people asking feel like hated man dallas county said assessor steve helm',\n",
              " 'reported feeling marginalized intimidated subjected threat retaliation',\n",
              " 'im sure im peace situation im feeling bitter past five month something changed within',\n",
              " 'feeling profoundly peaceful',\n",
              " 'feel bad accepting',\n",
              " 'tried sorting area cat house lunchtime guess printer ordeal feeling quite uptight put hold',\n",
              " 'made make feel dumb dumber',\n",
              " 'power feeling justify laziness bitchy skinny girl',\n",
              " 'feel like sweet company finally coming together',\n",
              " 'im making mood icon right let see feel think course charming',\n",
              " 'feel like accepted bucking force coming quarter tell something wrong married child',\n",
              " 'apologise picture good quality youre stuck idea feel free check website caption',\n",
              " 'feel fine even though ive burned dinner oops',\n",
              " 'feel divine landmass respect bear heart greatness residing',\n",
              " 'feel like im fond word',\n",
              " 'feel vulnerable knowing come feel like rest life depends today',\n",
              " 'feel damn agitated',\n",
              " 'feel confident around always need help',\n",
              " 'feel annoyingly isolated hostel people talking outside room etc',\n",
              " 'feel like alcoholism something widely accepted norm gay culture',\n",
              " 'im realizing didnt diet coke today make feel proud regardless junk consumed today',\n",
              " 'also feel accepted dark side finally realizing dark side healthy',\n",
              " 'spoken feeling getting stronger curious others similar thought',\n",
              " 'feel bit dull',\n",
              " 'hope understands way feel hope see could miss putting petty negative thought aside',\n",
              " 'feel blessed able share',\n",
              " 'feel little virtuous thing hand nini tasted better',\n",
              " 'say want people person feel mellow right',\n",
              " 'pull one favorite book make feel miserable',\n",
              " 'feel convinced im going shy away whatever really good',\n",
              " 'feel kind awkward go',\n",
              " 'feel like surprised development',\n",
              " 'snuffling feeling dull',\n",
              " 'need feel creative productive',\n",
              " 'god chosen help daughter become woman god intended even feel perfect',\n",
              " 'feeling bad except rib aching pulled muscle shoulder blade region excruciating hour hacking lung last night',\n",
              " 'point feeling resentful toward want',\n",
              " 'write feel oddly calm like wanting relax big chair lay sun',\n",
              " 'feel really inspired',\n",
              " 'know tell people feel question sincere sacred treasure',\n",
              " 'sit cry feel wronged wont change outcome',\n",
              " 'worried maybe sleeping well getting enough milk feeling lethargic',\n",
              " 'going actively learn genre practice feel feel dancer gt fearless courageous confident phew',\n",
              " 'started feeling little stressed leaving time making sure got getting ready picture wanted everything seemed workout perfectly',\n",
              " 'feel like ugly monster show really lest seem weird plainly outcast',\n",
              " 'feel little guilty exceptional little girl ethiopia home arm blog continues surround goosey',\n",
              " 'feel need layer fake tan night give bit colour clothes',\n",
              " 'feel real emotional connection ice queen north revealed inhumanity run bloody family',\n",
              " 'designing earring customer bridesmaid feel honoured',\n",
              " 'could adopt message could think help make feel peaceful grateful happier right',\n",
              " 'feel quite worthless hear pretty normal north american point',\n",
              " 'feel well enough cook',\n",
              " 'feel bad he stood bewildered',\n",
              " 'could feel hundred loving people around world connecting earth simply beautiful',\n",
              " 'feel generous spirit forgiving nature close accepting gift universe',\n",
              " 'feel accepted loved community derby girl helped create',\n",
              " 'feel utterly disgusted right contemplating death every waking moment ever since uttered word',\n",
              " 'often feel confused whether bipolar really hard core sinful nature',\n",
              " 'feeling thankful',\n",
              " 'feel privileged played',\n",
              " 'read time amp place feeling le perfect',\n",
              " 'im happy feel pressure one thing another amp make unhappy',\n",
              " 'feel worthwhile give depth city sized look one cycle day',\n",
              " 'still feeling exhausted workout monday tuesday go walk park',\n",
              " 'grabbed dog hugged fiercly next hour began feel bit like havent completly shaken feeling feeling rather depressed anxious day',\n",
              " 'found feeling inhibited shushing quite lot',\n",
              " 'admit jet lagged daylight feel groggy almost hung night everyone tucked snoozing light pop brain transform ever ready bunny',\n",
              " 'often throw work maxim last week feel discouraged way move forward offer encouragement others',\n",
              " 'feel lot better way wrote bit code',\n",
              " 'supposed feel sympathy emma im afraid failed',\n",
              " 'feel inside life like game sometimes came around wall dissapeared nothing surround keep fear im unprotected see ive opened youve made trust coz ive never felt like im naked around show',\n",
              " 'energy get angry upset anymore feel little resigned',\n",
              " 'cant tell many time four month seeing seriously serious emotional talk one u feeling tender',\n",
              " 'feeling emotional brother arrival',\n",
              " 'im even feeling liked girl hate pretty much everyone',\n",
              " 'go day feeling movement amazed something miraculous happening body like special secret',\n",
              " 'feel valuable want share',\n",
              " 'feel unloved without next im',\n",
              " 'feel falling pit buying think real skeptical woman',\n",
              " 'learning deal nausea amp manage unpleasantness work trying keep anyone knowing sister told need suffer amp feel miserable amp call dr zofran',\n",
              " 'im feeling greedy right',\n",
              " 'justified feeling slighted ungrateful',\n",
              " 'feel like waiting wing patiently waiting distracted enough take take everything love world away destroy',\n",
              " 'feel like fucked big time protect',\n",
              " 'feel like mind blank empty',\n",
              " 'feel comfortable playing game presenting bad guy really misunderstood good guy vice versa',\n",
              " 'listen advice eating disorder actually feel better',\n",
              " 'bought gb iphone got apple store credit feel like sympathetic early buyer responded appropriately',\n",
              " 'im feeling lot optimistic future',\n",
              " 'feel pissed angry',\n",
              " 'couldnt help feeling awful predicament life daily nightly basis glad bel started see light stuck stood daniel whilst one else including family im afraid got really disgusted',\n",
              " 'im feeling completely mellow perfect tonight',\n",
              " 'feel curious would like explore top helterskelter like plant',\n",
              " 'ive learned angel earth feel feel stand loving thought healing heart steady hand would also offer without moment hesitation return always',\n",
              " 'feel packaging really lovely product everything ask',\n",
              " 'feel ive ignored long year',\n",
              " 'know different feel hug kiss im perfect way',\n",
              " 'feeling little relaxed certainly feeling refreshed thanks drunk dude decided letting firework every half hour night would super fun fact impossible sleep freezing cold complaining toddler certainly rebooted',\n",
              " 'definitely feel useful information anyone facing similar question time life',\n",
              " 'feel sense melancholy',\n",
              " 'im sad people unhappy flag religious reason know many religious people feel go faith supportive',\n",
              " 'feel brave though',\n",
              " 'walked near hotel felt obvious uneasy warning petty crime read guidebook maybe residual year ago left feeling threatened',\n",
              " 'feel like finally losing stubborn little bit extra stuff lower belly',\n",
              " 'feeling overwhelmed trying think woman',\n",
              " 'remember feeling frightened could feel emotion high level',\n",
              " 'feel inside coz fucking horny',\n",
              " 'tested positive never taken drug feel innocent say martina',\n",
              " 'im proud word describe way make heart feel thank god supportive amazing hubbard',\n",
              " 'made sex feel woman enjoy sex body emotion admired respected',\n",
              " 'feel need work acceptable conversation fodder',\n",
              " 'hiked long steep hillside loaded grass bush feeling pretty doubtful id able find',\n",
              " 'really like color scheme since make feel peaceful clean simple',\n",
              " 'feel lame',\n",
              " 'personally feel creative present everything packed inside brown paper bag',\n",
              " 'feel fearless post grieving day',\n",
              " 'feel blessed married love stepchild',\n",
              " 'dropped martin back dd pulled feeling exceptionally outgoing waved talked neighbor downstairs',\n",
              " 'feel faithful ever',\n",
              " 'feeling relieved feel',\n",
              " 'sometimes feel bit unwelcome',\n",
              " 'feel complacent moment',\n",
              " 'feel passionate arouse emotion seem thing need learn something emotion tell need grow direction',\n",
              " 'feel make person love happened something find acceptable',\n",
              " 'lost yarn over done first lace project feeling pretty pleased',\n",
              " 'want know become prime minister le year time proud friend israel jew someone feel proud part community gathered today',\n",
              " 'feel somewhat safe give hosting try',\n",
              " 'follow many people many follower however feeling people talking may know trying rude real',\n",
              " 'never feel lonely long people love support work',\n",
              " 'much going life constantly running like crazy always steal quiet moment acknowledge child overwhelming excitement anticipation feel god truly faithful brings everything around',\n",
              " 'suspect reasoning may simply lull apple feeling complacent',\n",
              " 'feel exhausted',\n",
              " 'prepare feel thankful event touch upon many different concern poetry language issue pacific aesthetic avant garde eco poetry',\n",
              " 'met present boyfriend boat trip england said would call got back sweden going town england soon walked called england could wait till came home',\n",
              " 'feel inspired many thing want write',\n",
              " 'im hurt feel unimportant',\n",
              " 'feel like uninstalling skype deactivateing facebook amp hatena account since im becoming hateful person amp dont want get worse right',\n",
              " 'began feel shaky nauseous yearned connection cairn make deprivation',\n",
              " 'feeling adventurous though went asian flavor ginger sesame oil salad',\n",
              " 'playing sport advanced pe class many people advanced',\n",
              " 'cause extreme worry distress ground remember fondly forever mary prepares feel unfortunate time eventuallythe intense emotion sexual lovein condescend come hand put strength wu mouth dont let oneself cry',\n",
              " 'feel greedy holiday forgetting responsibility',\n",
              " 'mean feel like broke record sometimes',\n",
              " 'feeling rather heartless recently heard word unconditional love could find',\n",
              " 'feel dissatisfied accustomed healing',\n",
              " 'im feeling doubtful pattern color working together cant sure everything come together',\n",
              " 'want get back habit blogging cool fun thing im also trying get rut writing feeling shitty',\n",
              " 'still healing heart broken still healing broken dream still doubting still feeling confused',\n",
              " 'gent feeling lousy last week ended trip hospital last saturday put damper wedding anniversary',\n",
              " 'read learn interview feel like could never deserve someone kind compassionate',\n",
              " 'feel thats strange wotcs behalf',\n",
              " 'take walk park feeling joyful',\n",
              " 'feel calm silent protected definiteness existence',\n",
              " 'want feel assured life good know trust lord',\n",
              " 'feel safe berry',\n",
              " 'im feeling envious already',\n",
              " 'suck boring dull town feeling missed family bf',\n",
              " 'feel like cute thing dont feel comfortable dont know put together',\n",
              " 'feel like emotional cutter',\n",
              " 'wake morning go sleep evening feel seed voice heart screaming empty stitched heart',\n",
              " 'received blanket absolutely amazed fluffy extremely soft really didnt think going feel amazing',\n",
              " 'feel sometimes im talented enough',\n",
              " 'feel would foolish perhaps little disrespectful consider long hilly race',\n",
              " 'mention oldest child youngest feeling hurt',\n",
              " 'woke today feeling kind strange',\n",
              " 'im sick feeling unimportant like nobody need',\n",
              " 'feeling quite distressed dejected battle insomnia',\n",
              " 'feel hated cempaka',\n",
              " 'feel numb many fucking feel shorted feeling',\n",
              " 'often use disney cheer im feeling low past couple day exception',\n",
              " 'ive feeling little defeated maybe even looked',\n",
              " 'feel shy wearing',\n",
              " 'say long enjoy story entertains make feel emotional whether sad happy angry disgusted plain horny really give damn',\n",
              " 'wept jackson slept feeling overwhelmed feeling want die',\n",
              " 'feel confident personal life right work life going well bos slowly understanding continually ask demand address tough issue cause problem various department',\n",
              " 'dont know whether presence reason feel homesick uk u make miss former home',\n",
              " 'mentioned last blog started get feeling pressured studying thing like also made person might fully',\n",
              " 'unwillingly always leaf feeling grouchy unsettled',\n",
              " 'give men woman complain lot heals wear least wear dress feel cool summer',\n",
              " 'feel like listening chinesepod working mandarin really want listen savage love podcast car talk',\n",
              " 'feel assured gun locked away gun safe making impossible child access',\n",
              " 'also feel conversation could dovetail quite easily another image object ugly serve purpose ironic',\n",
              " 'dont want make blog something whine time feel like ive beaten two four something',\n",
              " 'feel bad wasting time effort nothing',\n",
              " 'feel overwhelmed',\n",
              " 'kept trying make feel better',\n",
              " 'get making employee feel valued really economy another k job dumped last week alone suspect majority people thinking like rudy thank god still job',\n",
              " 'feel lucky theyve chosen share life',\n",
              " 'feel embarrassed enough',\n",
              " 'im feeling sorry though think poor people lost life everything due sandy',\n",
              " 'told people class leader choose friend true',\n",
              " 'stop feeling guilty',\n",
              " 'know people fond treat going getting pedicure sit enjoy wonderful feeling someone else massaging tender tootsies flipping page book magazine',\n",
              " 'first read book college helped cope feeling helplessness fear uncertain future',\n",
              " 'get creative feel like sit chat customer people lovely even kermit help see',\n",
              " 'get feeling donald smart enough educate densely focused meanderings inherent shortcoming',\n",
              " 'feeling frantic',\n",
              " 'feel extremely dangerous wandering sea',\n",
              " 'grateful filled general conference feel joyful power spirit wonderful weekend',\n",
              " 'think viewer tonight enjoy show coming malm like thing le fond thing hopefully feel entertained smitten feel urge cast vote regardless country voting tonight',\n",
              " 'ever want feel vulnerable',\n",
              " 'bought doraemon backpack charity store every intention putting etsy store feel like cute sell',\n",
              " 'im looking upon next year adventure likely make curse mathematics subject hell eventually make feel relieved',\n",
              " 'put without word since cant type lovely morning yes im feeling sarcastic today',\n",
              " 'feel kind unwelcome many catholic community hope isnt case',\n",
              " 'lift different hurt bad day happened get mind feel bit timid',\n",
              " 'feeling rather homesick today decided make list typical city sight might come use decide visit switzerland largest city',\n",
              " 'im sure ill feel playful soon cant right',\n",
              " 'couldnt feel blessed time',\n",
              " 'feel like rich purple gold match made heaven reinforces belief',\n",
              " 'sit hostel nearly two month ago time wearing jacket feeling toe might little numb cold',\n",
              " 'feel lost without',\n",
              " 'feel smart figure thing',\n",
              " 'im graduating two day feel sad right',\n",
              " 'feel naughty step outside specie compellingly different',\n",
              " 'want feel le stressed',\n",
              " 'still feel nervous',\n",
              " 'put mind odd feeling vicious cruel natural order seems one able escape town cycle predator victim catching anyone trying elevate mire',\n",
              " 'feel violent ever right',\n",
              " 'feel ecstatic privileged',\n",
              " 'feel perfect event',\n",
              " 'came away expereince feeling like encounter divine',\n",
              " 'feel slightly saddened know kid also resigned absence',\n",
              " 'sit snowy ohio countryside christmas eve feeling like postcard thrilled announce found',\n",
              " 'im feeling hopeful coming summer',\n",
              " 'feel bit like naughty kid went spent last penny bag full e number guilty',\n",
              " 'tune rest world focus rhythm needle softness yarn time feel peaceful',\n",
              " 'say feel alone br style color line height',\n",
              " 'feeling heartbroken lonely watched second younger sibling get married leaving lone single adult family',\n",
              " 'lost pound also started feel really awful',\n",
              " 'enjoy work genuine feel pleasant message trying deliver',\n",
              " 'knew except lost girly feeling gained graceful wisdom',\n",
              " 'feeling bit ungrateful choose correct',\n",
              " 'notice different question feeling agitated',\n",
              " 'feel like noob customer make really dull stupid joke im supposed find funny',\n",
              " 'getting sent company expense trip another state work week plan',\n",
              " 'feel insulted hero cosplay goon said care',\n",
              " 'eat good breakfast feel energetic throughout whole day feel clock slump',\n",
              " 'feel strongly supporting charity help child',\n",
              " 'ever seen life laceys constant disapprovements rikkis extreme happiness wasnt feeling quite carefree',\n",
              " 'started thinking space made feel creative characteristic',\n",
              " 'usually ignore page invite irrelevant facebook game invite impersonal feel insincere',\n",
              " 'feeling playful morning',\n",
              " 'feel like im pathetic little desperation',\n",
              " 'feel totally completely accepted loved heavenly abba pointing sin life',\n",
              " 'feel fond though feel like amalgamation many people already know',\n",
              " 'feel like team would appeased jackson point eagle terribly stubborn',\n",
              " 'feel like damaged good one want',\n",
              " 'think love enough feel pretty insulted rawr',\n",
              " 'help feeling lucky little know',\n",
              " 'also feel need say thank boy helped realize showing absolutely splendid hot night',\n",
              " 'never tell feel really suck think get really bothered',\n",
              " 'ive also nosy website seeing coming time year im feeling strangely festive ive picked top five product href http www',\n",
              " 'suppose natural id start feel little homesick new england time year',\n",
              " 'really feel like successful identifying pretty scary early warning sign sticking foot door shut',\n",
              " 'cant help think id shut id made big deal essentially two adult meeting table hot beverage perhaps wouldnt spent bulk weekend feeling like stupid shit',\n",
              " 'feeling really stressed due homework study increased rapidly last week',\n",
              " 'im begging fate mess next cycle let look pretty one least go feeling reassured',\n",
              " 'input class size medium wp image height src http techfeel wp content uploads google hindi input x',\n",
              " 'ive got learn mindful feel time im suspicious feeling',\n",
              " 'feeling much relaxed',\n",
              " 'feel acceptable make request using name',\n",
              " 'feeling lot pissed people sea org hollywood scientology become monster devoured wa wonderfully sleazy bohemian area',\n",
              " 'feel pained',\n",
              " 'reading sewing circle feel completely happy cant spit face imperialism least lesbian',\n",
              " 'feeling pretty fearless',\n",
              " 'feel bouncy twitchy sudden',\n",
              " 'feel like mellow restive dream maker',\n",
              " 'feel passionate joy',\n",
              " 'nostalgic feeling met wonderful people online online internet like second life',\n",
              " 'feel rejected trying find path stronger relationship bond god',\n",
              " 'dont know deal feel like becoming apart im afraid im going associate regular thing never forget',\n",
              " 'think fact know lot time play catch also free time first time feel like forever really free time',\n",
              " 'feel extremely privileged live country vote legitimate matter',\n",
              " 'feel strange gratitude hated israeli occupation sinai lasted actually recognizing importance sinai history',\n",
              " 'im much peaceful happy house clean food good kid arent feeling needy',\n",
              " 'felt birthday one day feel special could whatever wanted',\n",
              " 'feel depressed',\n",
              " 'got saturday morning feeling like crud determined let get best',\n",
              " 'feel determined steal private industry away citizen nation given time fighting real enemy theu',\n",
              " 'would say yet would feel superior fact self righteous even would admit back remember looking point see point come could face protect ego',\n",
              " 'feel tender anyone upset bee movie sort like feel old aunt dont realize prickly whisker getting slightly repulsed sad decline',\n",
              " 'sat embrace realised two hour spent shaking thang eighty bar celebrating fact one year closer death left ageing body feeling punished normally pink foot blackened',\n",
              " 'feel humiliated self',\n",
              " 'feel worthwhile item within company mission',\n",
              " 'feel earth move tribute carole king karaoke mix detail rel nofollow target blank see detail compare price img src http www',\n",
              " 'im one feeling emotion thats pathetic',\n",
              " 'say certain actually make feel amused sure people office told href http news',\n",
              " 'feel defeated okay hahaha mid term holiday good',\n",
              " 'decided lay bed started feel really violent like wanted punch kick thing except didnt wnat hurt anything',\n",
              " 'want say feel numb numb wouldnt pain probably wouldnt able cry much',\n",
              " 'go sometime future id probably stick african tram come entry fee maybe id spring asian tram feeling particularly brave might even try hot air balloon thought reasonable priced',\n",
              " 'always feel shocked threatening',\n",
              " 'supposed alright even feeling comfortable home able cook meal without year old helping ok mounting pile water utility bill',\n",
              " 'proud british glad young certainly feel blessed opportunity',\n",
              " 'whenever put others shoe try make person happy',\n",
              " 'feel absolutely devastated gaia pushed limit spite great stride seem making medium attention lately',\n",
              " 'feel around someone idiotic feel hence unintelligible blabbering',\n",
              " 'feeling content oh happy life',\n",
              " 'found feeling bit overwhelmed',\n",
              " 'know feel guess one moment want feel like accepted even though whatever get mattered',\n",
              " 'sure gnawing feeling getting agitated sitting around nothing',\n",
              " 'dont remember january like last year thats need real diary one feeling bitter dark boring',\n",
              " 'normally find intimidating shes crazy tiny little foreign food place people like feel le socially intimidated im',\n",
              " 'feel quite researched intelligent confidence consuming meat',\n",
              " 'ate something wrong feel terrible day',\n",
              " 'feel like place even messy',\n",
              " 'feel unprotected even travelling alone',\n",
              " 'believe feeling duality suffering soul growth tell ending decline change direction often one associated emotion offer one possible response decline change moving',\n",
              " 'feel really uptight unable unwind',\n",
              " 'im learning mandarin chinese preparation trip tianjin september already four lesson feel like handle basic im thrilled insight language always total mystery',\n",
              " 'think feel little weird',\n",
              " 'feel truth accepted judged well',\n",
              " 'feel like indecisive idiot',\n",
              " 'decide feel tell blamed never told would like',\n",
              " 'feel vet animal whose life save always going hostile',\n",
              " 'still feel anything else humiliated whenever think everything happened',\n",
              " 'feel like finally want write one vain hobby makeup',\n",
              " 'regularly feel embarrassed',\n",
              " 'realized want shoot wedding client connect feel comfortable must allow get know',\n",
              " 'checked baby heartbeat continued feel moving besides feeling terrible peace',\n",
              " 'found giggling clapping hand often five year old ice cream wagon never point didnt feel genuinely entertained',\n",
              " 'feel virtuous looking picture book',\n",
              " 'guess help got sick black friday forced maintain promise stay back city feel amazing',\n",
              " 'feel rather like celebrity widget stood let admired drank orange squash cup',\n",
              " 'really feel like space anymore really vain idea',\n",
              " 'reasonably deduce grandfather also love mother negate lifetime damage feeling unloved unwanted created',\n",
              " 'im saying read book character hard empathise lot time found feeling distraught something happened rather uninterested blank',\n",
              " 'im spending le especially stuff wont last long bringing ton stuff house feel positive holiday gift giving',\n",
              " 'feel embarrassed lost weight im afraid another week disappointing news scale cause people give stop following blog',\n",
              " 'feel little guilty contemplate going back get money prisoner begin enter room',\n",
              " 'careened feeling confident ability writer equally sure never ever write anything worth reading',\n",
              " 'feel honoured asked',\n",
              " 'feel pathetic hardly go whole day talking',\n",
              " 'faith supreme power accept everything incidence occuring life sometimes like today really make feel dull start cry',\n",
              " 'want feel humiliated made feel school',\n",
              " 'desperate kareena akshay kumar play double role flash forward minissha say still feel today amisha patel glamorous avtaar',\n",
              " 'feel like doomed',\n",
              " 'always well succeded',\n",
              " 'felt bad bad grade feeling like hide didnt know say except declare frustration hated school',\n",
              " 'feel assaulted shit storm confusion anger hurt feeling tsunami u away',\n",
              " 'feel fucking low',\n",
              " 'feel betrayed angry sad time dammit',\n",
              " 'feel reassured county government county take murder illegal immigrant back alley seriously enough prosecute someone year later',\n",
              " 'know feel submissive learning use firearm',\n",
              " 'feel drained end novel try hardest get something change impact life',\n",
              " 'truly surprised feel quite honored',\n",
              " 'hate feeling alone',\n",
              " 'feel like people accepted wed get along lot better',\n",
              " 'feel creative juice beginning flow',\n",
              " 'feel suffocated paranoid',\n",
              " 'would call success feeling pretty depressed state clothes',\n",
              " 'feel soo lonely',\n",
              " 'see wednesday im feeling fantastic day tell im getting smaller smaller',\n",
              " 'feel though another adventure curious anything else',\n",
              " 'also feel sidebar messy',\n",
              " 'feel respected secure journey toward loving loved return',\n",
              " 'im feeling relieved yet painful something inside creepily numb feel like ghost hallway way used dont tell another time succumb',\n",
              " 'feel amazed thankful e life',\n",
              " 'must confess im still feeling uncertain god going work everything',\n",
              " 'really bad feeling cold month',\n",
              " 'ive feeling sort depressed',\n",
              " 'feeling indecisive ever suppose',\n",
              " 'felt abandoned seemed like millionth time life spent last several day feeling sorry picking order help friend',\n",
              " 'enjoy day feel cute',\n",
              " 'bonded point time still feel fond memory',\n",
              " 'remember come feel beaten depressed faith truly healed',\n",
              " 'sometimes feel carried heart loving child fiercely',\n",
              " 'feel said quickly glad',\n",
              " 'understand reacting think observing u closely become happier actual feel supporting u',\n",
              " 'imagined form fitting clothing beautiful looking mirror feeling proud lighter energetic',\n",
              " 'starting feel like maybe want relationship im stubborn admit',\n",
              " 'feel appreciative money coming',\n",
              " 'feel loyal especially ive experienced recently trust',\n",
              " 'feel pain heart every priestess temple drop every single ven devoted talia loses devotion take rank injury equal devotion',\n",
              " 'feel smug got exploited get bruno marzzz',\n",
              " 'ive soo excited feel amazing',\n",
              " 'feel kinda lousy',\n",
              " 'know thing many passersby feel special truly welcome country',\n",
              " 'didnt start feeling excitement movie almost started coming violent wave',\n",
              " 'feel blessed friend come',\n",
              " 'feeling strange also present movement trying one way',\n",
              " 'feel like acceptable',\n",
              " 'feel like im boring sometimes im okay',\n",
              " 'felt need write sometimes anxious feeling impatient thought list thing still could done baby arrives',\n",
              " 'feel like life vain',\n",
              " 'dropped script left feeling dissatisfied',\n",
              " 'im starting feel really pathetic giving bulk enthusiasm day kardashians u weekly roseanne marathon completely ignoring blog',\n",
              " 'feel love se inscrie intr un rafinament lejer romantic si extrem de feminin',\n",
              " 'really wish time explore twitter feel like lost lot time learning use site',\n",
              " 'love yoga love learning love made think sharing yoga student feel hopeful excited',\n",
              " 'went training feeling disheartened',\n",
              " 'feel glad',\n",
              " 'priceless feel honoured every mum dad trust new arrival',\n",
              " 'felt really bad claudia always amazing time la could feel disappointed trip turning fun amazing could',\n",
              " 'remember feeling nervous',\n",
              " 'feel need pimp since raini beloved rocky casting director love much',\n",
              " 'feel like life taken video game im doomed repeat set circumstance collect special power knowledge treasure finally advance next level',\n",
              " 'feel like one punished',\n",
              " 'kept feeling wonderful ran couldnt believe',\n",
              " 'feel le stress pretty much unpleasant obligation life know allow mix thing enjoy running baking climbing coffee girlfriend cuddling dog reading book',\n",
              " 'lying bed last night day making experiment usual suspect fabric plastic feeling agitated issue proper presentation made headway course mere six hour',\n",
              " 'working right guy feel horny much passion',\n",
              " 'feel like im greedy asking something expensive',\n",
              " 'see feel friendly',\n",
              " 'tell sick injured feeling generally awful climbed team car abandoned race right spectator snapping away phone',\n",
              " 'forced keep going back even though made feel consistently uncomfortable gave saw point',\n",
              " 'wonder im vain love dressing attempting fashionable realized nothing wrong dressing feel pretty cute smart whatever',\n",
              " 'feel special want mashed potato pronto get mashed potato pronto',\n",
              " 'cant remember exactly made stop using feeling got distracted hair product sort forgot one',\n",
              " 'feel kind acceptance song gave photo kind ecstatic ascension higher level conscience aesthetic like rapture sort',\n",
              " 'always feel alone',\n",
              " 'feeling hell kid shooting dagger eye annoyed he standing holding flower',\n",
              " 'dont know feel thrilled finally getting go camping people like know first time thats happened',\n",
              " 'feel talk like disadvantaged child waiting half face come back',\n",
              " 'help feel really nostalgic disney level',\n",
              " 'feel entirely dangerous',\n",
              " 'remember feeling thrilled use nursing skill relieved could day house remember first hard problem',\n",
              " 'found amazed mid f would feel tad cool perhaps sweatshirt wouldve good idea',\n",
              " 'feel like may mislead gracious reader blog',\n",
              " 'still feel confused guilty whole thing',\n",
              " 'feel intimidated task feel overwhelmed huge complicated task',\n",
              " 'feeling emotional cry apparent reason time feel like world ending',\n",
              " 'feel lonely sad talk day get moment desk',\n",
              " 'still sit back feel amazed whole thing',\n",
              " 'feel rejected cant find ive left behind',\n",
              " 'feel like cant dirty dish piled laundry strewn toy scattered everywhere',\n",
              " 'feel lately ever life precious',\n",
              " 'feel completely burdened intelligence',\n",
              " 'cant think emotional state worse feeling generally worthless unlovable',\n",
              " 'dont photo excited happy prejudging great btw least feel tt since felt confident didnt stutter front panel judge dearest bf around door opened public',\n",
              " 'im feeling jolly href http www',\n",
              " 'feel fake think really want good conversation make good contact appear especially self confident even risk talking people good talk meet one person good connection',\n",
              " 'went around rest day feeling distressed changed appearance based someone comment made even coincidence appealing felt wrong wrong wrong',\n",
              " 'really enjoy cabernet aggressive flavor tend isnt exactly light wine still general congenial feel find pleasant',\n",
              " 'woke early morning feeling joyful',\n",
              " 'wonder feel loved someone love',\n",
              " 'feel havent blogged age least truly blogged update cute little post today',\n",
              " 'feel cared accepted',\n",
              " 'feel passionate knitting seeing really good film surprisingly awesome tv program cant believe wrote',\n",
              " 'im feeling depressed',\n",
              " 'feel feel drained feel talking others finish strength',\n",
              " 'feeling ok lot bruising arm decided remove blood',\n",
              " 'feel others worthwhile',\n",
              " 'im feeling listless bored something',\n",
              " 'joy allowing kid feel like valued treasure blast kid alongside say incredibly humbling experience influence child life know say internalized',\n",
              " 'sometimes feel irritated thought spending money annual spruce doorstep',\n",
              " 'wish could bottle squeal delight take whenever im feeling grumpy',\n",
              " 'feeling overwhelmed needing take time',\n",
              " 'im feeling dangerous ill write figure hell itll take',\n",
              " 'honestly thought impossible point feel pretty',\n",
              " 'found korean men turning foreign woman freedom feel easily accounted dating korean casual thing often tends serious matter',\n",
              " 'think also pity party feeling bit frustrated little time seem day',\n",
              " 'forgive accepting allowing feeling going get punished something wrong',\n",
              " 'feel like part problem call missy jane trusting angel cover airbrushing real skin cover model',\n",
              " 'might feel offended time hearing statement strongly disagree',\n",
              " 'easily feel quite pressured routine really noticed difference away',\n",
              " 'feeling need christmas crafting week especially seeing couple lovely quilty christmas project stitch group',\n",
              " 'cycle ever feeling finishing manchester blackpool mile bothered ride extra mile put',\n",
              " 'im sure feel anything im keen see test see im yet ready view friend',\n",
              " 'also feel lethargic',\n",
              " 'im feeling somewhat nostalgic game fact star war',\n",
              " 'feel like punished carry burden even though four year',\n",
              " 'feeling like said humour get im one people even spoke issue one would bothered would care thought head wasnt true way like dont want burden sort thing',\n",
              " 'feel part life treasured london flatmate especially neat point something say',\n",
              " 'feel innocent',\n",
              " 'feel hopeful new treatment extend life',\n",
              " 'feel like idiot trusting though',\n",
              " 'providing link courtesy author stuff either time never experienced even lived available feel emotional',\n",
              " 'feeling kinda lost best friend',\n",
              " 'ive rough day since midst cry dealing feeling defeated emotional put coat curled created safety nest inside coat',\n",
              " 'feel terribly remourseful didnt stay faithful plan get sooner',\n",
              " 'went wedding weekend say feeling important',\n",
              " 'stop reading sids blog part blogging community feel supporting get better handling grief hence going stop',\n",
              " 'feel le shy exploring role physical way',\n",
              " 'replied feeling strange giving order',\n",
              " 'chant invocation feel force supporting teach',\n",
              " 'feel like move sleep glad enjoyed week good sleep mentioned feeling',\n",
              " 'really hurt feel unimportant suck',\n",
              " ...]"
            ]
          },
          "metadata": {},
          "execution_count": 13
        }
      ]
    },
    {
      "cell_type": "code",
      "source": [
        "x_val = preprocess_txt(validation_data.Sentence)\n",
        "y_val = preprocess_txt(validation_data.Sentiment)"
      ],
      "metadata": {
        "id": "O2zOIyDAH3PR"
      },
      "execution_count": 14,
      "outputs": []
    },
    {
      "cell_type": "code",
      "source": [
        "# y_train\n",
        "unique_y_train = np.unique(y_train)\n",
        "print(\"Unique_y_train\",unique_y_train)"
      ],
      "metadata": {
        "colab": {
          "base_uri": "https://localhost:8080/"
        },
        "id": "eojQubFaH6B3",
        "outputId": "b0915308-86d4-44ab-f152-6d796b336876"
      },
      "execution_count": 15,
      "outputs": [
        {
          "output_type": "stream",
          "name": "stdout",
          "text": [
            "Unique_y_train ['anger' 'fear' 'joy' 'love' 'sadness' 'surprise']\n"
          ]
        }
      ]
    },
    {
      "cell_type": "markdown",
      "source": [
        "c) Train the dataset using Logistic Regression and Neural Network (two hidden\n",
        "layers)."
      ],
      "metadata": {
        "id": "0e5MSM2eJDgL"
      }
    },
    {
      "cell_type": "code",
      "source": [
        "import pandas as pd\n",
        "from sklearn.linear_model import LogisticRegression\n",
        "from sklearn.model_selection import train_test_split\n",
        "import tensorflow as tf\n",
        "from tensorflow.keras import layers"
      ],
      "metadata": {
        "id": "aieVnoerJF88"
      },
      "execution_count": 16,
      "outputs": []
    },
    {
      "cell_type": "code",
      "source": [
        "vectorizer = CountVectorizer()\n",
        "x_train = vectorizer.fit_transform(x_train)\n",
        "x_test = vectorizer.transform(x_test)\n",
        "x_val = vectorizer.transform(x_val)"
      ],
      "metadata": {
        "id": "NQarFTd-JHqg"
      },
      "execution_count": 17,
      "outputs": []
    },
    {
      "cell_type": "code",
      "source": [
        "from sklearn import preprocessing\n",
        "le = preprocessing.LabelEncoder()\n",
        "le.fit(y_train)\n",
        "y_train = le.transform(y_train)\n",
        "\n",
        "le.fit(y_test)\n",
        "y_test = le.transform(y_test)\n",
        "\n",
        "le.fit(y_val)\n",
        "y_val = le.transform(y_val)\n"
      ],
      "metadata": {
        "id": "5drwdAuEJJKA"
      },
      "execution_count": 18,
      "outputs": []
    },
    {
      "cell_type": "code",
      "source": [
        "# Logistic Regression\n",
        "lr = LogisticRegression(max_iter=10000)\n",
        "lr.fit(x_train, y_train)\n",
        "lr_acc = lr.score(x_test, y_test)\n",
        "print(\"Logistic Regression accuracy:\", lr_acc)\n"
      ],
      "metadata": {
        "colab": {
          "base_uri": "https://localhost:8080/"
        },
        "id": "qXZ5_ejoJLMj",
        "outputId": "52c94ec8-1818-4f07-ab14-39ab1df439ae"
      },
      "execution_count": 19,
      "outputs": [
        {
          "output_type": "stream",
          "name": "stdout",
          "text": [
            "Logistic Regression accuracy: 0.8935\n"
          ]
        }
      ]
    },
    {
      "cell_type": "code",
      "source": [
        "len(np.unique(y_train))"
      ],
      "metadata": {
        "colab": {
          "base_uri": "https://localhost:8080/"
        },
        "id": "BIj3eWwbJNWj",
        "outputId": "f240e865-5d6a-4e9c-dccb-5c98ff42c6ef"
      },
      "execution_count": 20,
      "outputs": [
        {
          "output_type": "execute_result",
          "data": {
            "text/plain": [
              "6"
            ]
          },
          "metadata": {},
          "execution_count": 20
        }
      ]
    },
    {
      "cell_type": "code",
      "source": [
        "# Create a neural network model object with two hidden layers\n",
        "# Building the Model\n",
        "# define the model\n",
        "model = tf.keras.Sequential()\n",
        "\n",
        "# add the input layer\n",
        "model.add(tf.keras.layers.Dense(784, activation='relu', input_shape=(x_train.shape[1],)))\n",
        "\n",
        "# add the first hidden layer\n",
        "model.add(tf.keras.layers.Dense(256, activation='relu'))\n",
        "\n",
        "# add the second hidden layer\n",
        "model.add(tf.keras.layers.Dense(128, activation='relu'))\n",
        "\n",
        "# add the output layer\n",
        "model.add(tf.keras.layers.Dense(6, activation='softmax'))"
      ],
      "metadata": {
        "id": "aZFGPGyeJOzP"
      },
      "execution_count": 21,
      "outputs": []
    },
    {
      "cell_type": "code",
      "source": [
        "# compile the model\n",
        "model.compile(optimizer='adam', loss='sparse_categorical_crossentropy', metrics=['accuracy'])"
      ],
      "metadata": {
        "id": "mC39Je_AJQtD"
      },
      "execution_count": 22,
      "outputs": []
    },
    {
      "cell_type": "code",
      "source": [
        "# Training the Model\n",
        "\n",
        "# define the batch size and number of epochs\n",
        "batch_size = 32\n",
        "epochs = 10\n",
        "\n",
        "# fit the model\n",
        "history = model.fit(x_train, y_train, batch_size=batch_size, epochs=epochs, validation_data=(x_val, y_val))"
      ],
      "metadata": {
        "colab": {
          "base_uri": "https://localhost:8080/"
        },
        "id": "60QJJ-s8JSv1",
        "outputId": "36d4fdc6-ac1b-483b-8eb9-a065415a9038"
      },
      "execution_count": 23,
      "outputs": [
        {
          "output_type": "stream",
          "name": "stdout",
          "text": [
            "Epoch 1/10\n",
            "500/500 [==============================] - 166s 329ms/step - loss: 0.6437 - accuracy: 0.7667 - val_loss: 0.3786 - val_accuracy: 0.8755\n",
            "Epoch 2/10\n",
            "500/500 [==============================] - 144s 288ms/step - loss: 0.1179 - accuracy: 0.9574 - val_loss: 0.4068 - val_accuracy: 0.8785\n",
            "Epoch 3/10\n",
            "500/500 [==============================] - 126s 253ms/step - loss: 0.0406 - accuracy: 0.9852 - val_loss: 0.5271 - val_accuracy: 0.8730\n",
            "Epoch 4/10\n",
            "500/500 [==============================] - 127s 254ms/step - loss: 0.0231 - accuracy: 0.9915 - val_loss: 0.6321 - val_accuracy: 0.8700\n",
            "Epoch 5/10\n",
            "500/500 [==============================] - 127s 255ms/step - loss: 0.0170 - accuracy: 0.9934 - val_loss: 0.6906 - val_accuracy: 0.8750\n",
            "Epoch 6/10\n",
            "500/500 [==============================] - 141s 282ms/step - loss: 0.0249 - accuracy: 0.9911 - val_loss: 0.6849 - val_accuracy: 0.8625\n",
            "Epoch 7/10\n",
            "500/500 [==============================] - 127s 254ms/step - loss: 0.0286 - accuracy: 0.9898 - val_loss: 0.7704 - val_accuracy: 0.8690\n",
            "Epoch 8/10\n",
            "500/500 [==============================] - 128s 256ms/step - loss: 0.0195 - accuracy: 0.9931 - val_loss: 0.8340 - val_accuracy: 0.8540\n",
            "Epoch 9/10\n",
            "500/500 [==============================] - 127s 255ms/step - loss: 0.0138 - accuracy: 0.9948 - val_loss: 0.8031 - val_accuracy: 0.8705\n",
            "Epoch 10/10\n",
            "500/500 [==============================] - 139s 278ms/step - loss: 0.0103 - accuracy: 0.9954 - val_loss: 0.9139 - val_accuracy: 0.8740\n"
          ]
        }
      ]
    },
    {
      "cell_type": "code",
      "source": [
        "# Evaluate the performance of the neural network model\n",
        "model_score = model.evaluate(x_test, y_test)\n",
        "\n",
        "# Print the results\n",
        "print(\"Logistic Regression Accuracy:\", lr_acc)\n",
        "print(\"Neural Network Accuracy:\", model_score[1])\n",
        "# # print the accuracy\n",
        "# print('Neural Network Accuracy: {}%'.format(model_score * 100))"
      ],
      "metadata": {
        "colab": {
          "base_uri": "https://localhost:8080/"
        },
        "id": "OAKqLSIEJWk9",
        "outputId": "59b82402-c19b-4b50-ea58-c84086da4e22"
      },
      "execution_count": 24,
      "outputs": [
        {
          "output_type": "stream",
          "name": "stdout",
          "text": [
            "63/63 [==============================] - 0s 5ms/step - loss: 0.8804 - accuracy: 0.8575\n",
            "Logistic Regression Accuracy: 0.8935\n",
            "Neural Network Accuracy: 0.8575000166893005\n"
          ]
        }
      ]
    },
    {
      "cell_type": "markdown",
      "source": [
        "d) Perform classification evaluation in the test dataset (show accuracy, confusion\n",
        "matrix etc.)\n"
      ],
      "metadata": {
        "id": "XK-3jDQxJqRv"
      }
    },
    {
      "cell_type": "code",
      "source": [
        "import seaborn as sn\n",
        "from sklearn.metrics import accuracy_score, confusion_matrix\n",
        "\n",
        "# Logistic Regression\n",
        "print(\"Logistic Regression accuracy:\", lr_acc)\n",
        "\n",
        "# Logistic Regression evaluation\n",
        "lr_pred = lr.predict(x_test)\n",
        "lr_acc = accuracy_score(y_test, lr_pred)\n",
        "\n",
        "# Confusion Matrix for Logistic Regression\n",
        "lr_cm = confusion_matrix(y_test, lr_pred)\n",
        "# print(\"Confusion Matrix for Logistic Regression\\n\", lr_cm)\n",
        "\n",
        "sn.heatmap(lr_cm, annot=True)\n",
        "plt.title('Confusion Matrix for Logistic Regression')\n",
        "plt.ylabel('Predicted Value')\n",
        "plt.xlabel('Truth value')"
      ],
      "metadata": {
        "colab": {
          "base_uri": "https://localhost:8080/",
          "height": 507
        },
        "id": "MRYejkMwJzps",
        "outputId": "c8cc5c5f-7309-4d05-b2a4-47654648cf70"
      },
      "execution_count": 25,
      "outputs": [
        {
          "output_type": "stream",
          "name": "stdout",
          "text": [
            "Logistic Regression accuracy: 0.8935\n"
          ]
        },
        {
          "output_type": "execute_result",
          "data": {
            "text/plain": [
              "Text(0.5, 23.52222222222222, 'Truth value')"
            ]
          },
          "metadata": {},
          "execution_count": 25
        },
        {
          "output_type": "display_data",
          "data": {
            "text/plain": [
              "<Figure size 640x480 with 2 Axes>"
            ],
            "image/png": "[encoded data removed]"
          },
          "metadata": {}
        }
      ]
    },
    {
      "cell_type": "code",
      "source": [
        "# # Neural Network evaluation\n",
        "# Neural Network accuracy\n",
        "print(\"Neural Network Accuracy:\", model_score[1])\n",
        "nn_pred = model.predict(x_test)\n",
        "nn_pred = np.argmax(nn_pred, axis=1)\n",
        "nn_acc = accuracy_score(y_test, nn_pred)\n",
        "nn_cm = confusion_matrix(y_test, nn_pred)\n",
        "# print(\"Confusion Matrix for Neural Network\\n\", nn_cm)\n",
        "\n",
        "sn.heatmap(nn_cm, annot=True, cmap=plt.cm.Greens)\n",
        "plt.title('Confusion Matrix for Neural Network')\n",
        "plt.ylabel('Predicted Value')\n",
        "plt.xlabel('Truth value')"
      ],
      "metadata": {
        "colab": {
          "base_uri": "https://localhost:8080/",
          "height": 524
        },
        "id": "yMUjG4YgJ24C",
        "outputId": "c39295e1-5685-4ad5-de5e-5ce969c65528"
      },
      "execution_count": 26,
      "outputs": [
        {
          "output_type": "stream",
          "name": "stdout",
          "text": [
            "Neural Network Accuracy: 0.8575000166893005\n",
            "63/63 [==============================] - 0s 3ms/step\n"
          ]
        },
        {
          "output_type": "execute_result",
          "data": {
            "text/plain": [
              "Text(0.5, 23.52222222222222, 'Truth value')"
            ]
          },
          "metadata": {},
          "execution_count": 26
        },
        {
          "output_type": "display_data",
          "data": {
            "text/plain": [
              "<Figure size 640x480 with 2 Axes>"
            ],
            "image/png": "[encoded data removed]"
          },
          "metadata": {}
        }
      ]
    },
    {
      "cell_type": "markdown",
      "source": [
        "e) Use any two new sentences (not in the datasets) as test cases based on any of\n",
        "the emotions in the dataset and predict the categories."
      ],
      "metadata": {
        "id": "R6zK44kXJ5mV"
      }
    },
    {
      "cell_type": "code",
      "source": [
        "new_sentences = [\"I feel giddy today!\", \"This situation is making me very angry\"]\n",
        "new_X = vectorizer.transform(new_sentences)\n",
        "\n",
        "# Logistic Regression prediction\n",
        "lr_new_pred = lr.predict(new_X)\n",
        "print(\"Logistics Reg Prediction\",lr_new_pred)\n",
        "\n",
        "# Neural Network prediction\n",
        "nn_new_pred = model.predict(new_X)\n",
        "nn_new_pred = np.argmax(nn_new_pred, axis=1)\n",
        "\n",
        "print(\"Neural Network Prediction\",nn_new_pred)\n"
      ],
      "metadata": {
        "colab": {
          "base_uri": "https://localhost:8080/"
        },
        "id": "Y_4qOHXsJ6-F",
        "outputId": "ba595a4a-9b84-413a-8c25-a3204b9400be"
      },
      "execution_count": 27,
      "outputs": [
        {
          "output_type": "stream",
          "name": "stdout",
          "text": [
            "Logistics Reg Prediction [2 0]\n",
            "1/1 [==============================] - 0s 18ms/step\n",
            "Neural Network Prediction [4 0]\n"
          ]
        }
      ]
    },
    {
      "cell_type": "markdown",
      "source": [
        "f) Perform a K-means Clustering in the training set and plot the accuracy (Elbow\n",
        "method) of different cluster sizes (3-10) and determine the best cluster size."
      ],
      "metadata": {
        "id": "DDeq85a8J97A"
      }
    },
    {
      "cell_type": "code",
      "source": [
        "from sklearn.cluster import KMeans\n",
        "import matplotlib.pyplot as plt\n",
        "\n",
        "wcss = []\n",
        "for i in range(3, 11):\n",
        "    kmeans = KMeans(n_clusters=i, init='k-means++', max_iter=300, n_init=10, random_state=0)\n",
        "    kmeans.fit(x_train)\n",
        "    wcss.append(kmeans.inertia_)\n",
        "\n",
        "plt.plot(range(3, 11), wcss)\n",
        "plt.title('Elbow Method')\n",
        "plt.xlabel('Number of clusters')\n",
        "plt.ylabel('WCSS')\n",
        "plt.show()"
      ],
      "metadata": {
        "colab": {
          "base_uri": "https://localhost:8080/",
          "height": 472
        },
        "id": "lRTwVY84J_w0",
        "outputId": "c8eb21b9-684b-4ce9-a68f-099b3724e5ac"
      },
      "execution_count": 28,
      "outputs": [
        {
          "output_type": "display_data",
          "data": {
            "text/plain": [
              "<Figure size 640x480 with 1 Axes>"
            ],
            "image/png": "[encoded data removed]"
          },
          "metadata": {}
        }
      ]
    },
    {
      "cell_type": "markdown",
      "source": [
        "g) Show the cluster membership of the sentences in the test dataset.\n"
      ],
      "metadata": {
        "id": "LYaucgTmKCp6"
      }
    },
    {
      "cell_type": "code",
      "source": [
        "x_train=x_train.toarray()"
      ],
      "metadata": {
        "id": "8168I7xsKD_-"
      },
      "execution_count": 29,
      "outputs": []
    },
    {
      "cell_type": "code",
      "source": [
        "#Applying k-means algorithm with 8 clusters\n",
        "kmeans=KMeans(n_clusters=8)\n",
        "km=kmeans.fit_predict(x_train)\n",
        "\n",
        "#Getting unique labels\n",
        "u_labels = np.unique(km)\n",
        "\n",
        "#plotting the results:\n",
        "for i in u_labels:\n",
        "    plt.scatter(x_train[km == i , 0] , x_train[km == i , 1] , label = i)\n",
        "    plt.scatter(kmeans.cluster_centers_[:, 0], kmeans.cluster_centers_[:, 1], c='red', marker='x', s=100)\n",
        "plt.title('Cluster Membership of K-means')\n",
        "plt.xlabel('X')\n",
        "plt.ylabel('Y')\n",
        "plt.legend()\n",
        "plt.show()"
      ],
      "metadata": {
        "colab": {
          "base_uri": "https://localhost:8080/",
          "height": 527
        },
        "id": "D6MB_q2AKFVF",
        "outputId": "51251706-a1cf-4aa8-93b8-ddd6a79e269e"
      },
      "execution_count": 30,
      "outputs": [
        {
          "output_type": "stream",
          "name": "stderr",
          "text": [
            "/usr/local/lib/python3.10/dist-packages/sklearn/cluster/_kmeans.py:870: FutureWarning: The default value of `n_init` will change from 10 to 'auto' in 1.4. Set the value of `n_init` explicitly to suppress the warning\n",
            "  warnings.warn(\n"
          ]
        },
        {
          "output_type": "display_data",
          "data": {
            "text/plain": [
              "<Figure size 640x480 with 1 Axes>"
            ],
            "image/png": "[encoded data removed]"
          },
          "metadata": {}
        }
      ]
    },
    {
      "cell_type": "code",
      "source": [
        "#Applying k-means algorithm with 8 clusters\n",
        "kmeans=KMeans(n_clusters=8)\n",
        "km=kmeans.fit_predict(x_train)\n",
        "\n",
        "#Plotting the result\n",
        "plt.scatter(x_train[:,0],x_train[:,1], c=km)\n",
        "plt.scatter(kmeans.cluster_centers_[:,0],kmeans.cluster_centers_[:,1],s=200,marker='s',c='red',alpha=0.7)\n",
        "plt.title('Statement1 vs Statement2 (Clusters)')\n",
        "plt.xlabel('Statement1')\n",
        "plt.ylabel('Statement2')\n",
        "plt.show()\n"
      ],
      "metadata": {
        "colab": {
          "base_uri": "https://localhost:8080/",
          "height": 527
        },
        "id": "KhE4UOVVKIeM",
        "outputId": "bcfc4a0e-5697-4ea9-fbfa-50a2a758a68d"
      },
      "execution_count": 31,
      "outputs": [
        {
          "output_type": "stream",
          "name": "stderr",
          "text": [
            "/usr/local/lib/python3.10/dist-packages/sklearn/cluster/_kmeans.py:870: FutureWarning: The default value of `n_init` will change from 10 to 'auto' in 1.4. Set the value of `n_init` explicitly to suppress the warning\n",
            "  warnings.warn(\n"
          ]
        },
        {
          "output_type": "display_data",
          "data": {
            "text/plain": [
              "<Figure size 640x480 with 1 Axes>"
            ],
            "image/png": "[encoded data removed]"
          },
          "metadata": {}
        }
      ]
    }
  ],
  "metadata": {
    "kernelspec": {
      "display_name": "Python 3",
      "language": "python",
      "name": "python3"
    },
    "language_info": {
      "codemirror_mode": {
        "name": "ipython",
        "version": 3
      },
      "file_extension": ".py",
      "mimetype": "text/x-python",
      "name": "python",
      "nbconvert_exporter": "python",
      "pygments_lexer": "ipython3",
      "version": "3.10.10"
    },
    "orig_nbformat": 4,
    "colab": {
      "provenance": []
    }
  },
  "nbformat": 4,
  "nbformat_minor": 0
}